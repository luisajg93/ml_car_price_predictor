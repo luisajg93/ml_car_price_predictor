{
 "cells": [
  {
   "cell_type": "markdown",
   "metadata": {},
   "source": [
    "# Proyecto Sprint 13"
   ]
  },
  {
   "cell_type": "markdown",
   "metadata": {},
   "source": [
    "## Descripción del proyecto\n",
    "\n",
    "El servicio de venta de autos usados Rusty Bargain está desarrollando una aplicación para atraer nuevos clientes. Gracias a esa app, puedes averiguar rápidamente el valor de mercado de tu coche. Tienes acceso al historial: especificaciones técnicas, versiones de equipamiento y precios. Tienes que crear un modelo que determine el valor de mercado. A Rusty Bargain le interesa:\n",
    "\n",
    "- la calidad de la predicción;\n",
    "- la velocidad de la predicción;\n",
    "- el tiempo requerido para el entrenamiento"
   ]
  },
  {
   "cell_type": "markdown",
   "metadata": {},
   "source": [
    "## Descripción de los datos\n",
    "\n",
    "Características\n",
    "\n",
    "- DateCrawled — fecha en la que se descargó el perfil de la base de datos\n",
    "- VehicleType — tipo de carrocería del vehículo\n",
    "- RegistrationYear — año de matriculación del vehículo\n",
    "- Gearbox — tipo de caja de cambios\n",
    "- Power — potencia (CV)\n",
    "- Model — modelo del vehículo\n",
    "- Mileage — kilometraje (medido en km de acuerdo con las especificidades regionales del conjunto de datos)\n",
    "- RegistrationMonth — mes de matriculación del vehículo\n",
    "- FuelType — tipo de combustible\n",
    "- Brand — marca del vehículo\n",
    "- NotRepaired — vehículo con o sin reparación\n",
    "- DateCreated — fecha de creación del perfil\n",
    "- NumberOfPictures — número de fotos del vehículo\n",
    "- PostalCode — código postal del propietario del perfil (usuario)\n",
    "- LastSeen — fecha de la última vez que el usuario estuvo activo\n",
    "\n",
    "Objetivo\n",
    "\n",
    "- Price — precio (en euros)"
   ]
  },
  {
   "cell_type": "markdown",
   "metadata": {},
   "source": [
    "## Objetivos del proyecto\n",
    "\n",
    "1. Hacer prueba de cordura con regresión lineal\n",
    "2. Optimizar los hiperparametros de un modelo de:\n",
    "    1. Bosque aleatorio\n",
    "    2. Potenciación de gradiente usando LightGBM y Catboost\n",
    "3. Evaluar los modelos con la métrica RECM\n"
   ]
  },
  {
   "cell_type": "markdown",
   "metadata": {},
   "source": [
    "## Importar librerías"
   ]
  },
  {
   "cell_type": "code",
   "execution_count": 1,
   "metadata": {},
   "outputs": [],
   "source": [
    "import pandas as pd\n",
    "import numpy as np\n",
    "import matplotlib.pyplot as plt\n",
    "import seaborn as sns\n",
    "\n",
    "from sklearn.preprocessing import StandardScaler\n",
    "from sklearn.model_selection import train_test_split\n",
    "from sklearn.model_selection import GridSearchCV\n",
    "\n",
    "from sklearn.linear_model import LinearRegression\n",
    "from sklearn.tree import DecisionTreeRegressor\n",
    "from sklearn.ensemble import RandomForestRegressor\n",
    "\n",
    "from sklearn.metrics import mean_squared_error\n",
    "from sklearn.metrics import r2_score\n",
    "\n",
    "from lightgbm import LGBMRegressor\n",
    "from catboost import CatBoostRegressor"
   ]
  },
  {
   "cell_type": "markdown",
   "metadata": {},
   "source": [
    "## Preparación de los datos"
   ]
  },
  {
   "cell_type": "markdown",
   "metadata": {},
   "source": [
    "### Exploración inicial de los datos"
   ]
  },
  {
   "cell_type": "code",
   "execution_count": 2,
   "metadata": {},
   "outputs": [
    {
     "name": "stdout",
     "output_type": "stream",
     "text": [
      "<class 'pandas.core.frame.DataFrame'>\n",
      "RangeIndex: 354369 entries, 0 to 354368\n",
      "Data columns (total 16 columns):\n",
      " #   Column             Non-Null Count   Dtype \n",
      "---  ------             --------------   ----- \n",
      " 0   DateCrawled        354369 non-null  object\n",
      " 1   Price              354369 non-null  int64 \n",
      " 2   VehicleType        316879 non-null  object\n",
      " 3   RegistrationYear   354369 non-null  int64 \n",
      " 4   Gearbox            334536 non-null  object\n",
      " 5   Power              354369 non-null  int64 \n",
      " 6   Model              334664 non-null  object\n",
      " 7   Mileage            354369 non-null  int64 \n",
      " 8   RegistrationMonth  354369 non-null  int64 \n",
      " 9   FuelType           321474 non-null  object\n",
      " 10  Brand              354369 non-null  object\n",
      " 11  NotRepaired        283215 non-null  object\n",
      " 12  DateCreated        354369 non-null  object\n",
      " 13  NumberOfPictures   354369 non-null  int64 \n",
      " 14  PostalCode         354369 non-null  int64 \n",
      " 15  LastSeen           354369 non-null  object\n",
      "dtypes: int64(7), object(9)\n",
      "memory usage: 43.3+ MB\n"
     ]
    }
   ],
   "source": [
    "data = pd.read_csv('car_data.csv')\n",
    "data.info()"
   ]
  },
  {
   "cell_type": "code",
   "execution_count": 3,
   "metadata": {},
   "outputs": [
    {
     "data": {
      "text/html": [
       "<div>\n",
       "<style scoped>\n",
       "    .dataframe tbody tr th:only-of-type {\n",
       "        vertical-align: middle;\n",
       "    }\n",
       "\n",
       "    .dataframe tbody tr th {\n",
       "        vertical-align: top;\n",
       "    }\n",
       "\n",
       "    .dataframe thead th {\n",
       "        text-align: right;\n",
       "    }\n",
       "</style>\n",
       "<table border=\"1\" class=\"dataframe\">\n",
       "  <thead>\n",
       "    <tr style=\"text-align: right;\">\n",
       "      <th></th>\n",
       "      <th>DateCrawled</th>\n",
       "      <th>Price</th>\n",
       "      <th>VehicleType</th>\n",
       "      <th>RegistrationYear</th>\n",
       "      <th>Gearbox</th>\n",
       "      <th>Power</th>\n",
       "      <th>Model</th>\n",
       "      <th>Mileage</th>\n",
       "      <th>RegistrationMonth</th>\n",
       "      <th>FuelType</th>\n",
       "      <th>Brand</th>\n",
       "      <th>NotRepaired</th>\n",
       "      <th>DateCreated</th>\n",
       "      <th>NumberOfPictures</th>\n",
       "      <th>PostalCode</th>\n",
       "      <th>LastSeen</th>\n",
       "    </tr>\n",
       "  </thead>\n",
       "  <tbody>\n",
       "    <tr>\n",
       "      <th>0</th>\n",
       "      <td>24/03/2016 11:52</td>\n",
       "      <td>480</td>\n",
       "      <td>NaN</td>\n",
       "      <td>1993</td>\n",
       "      <td>manual</td>\n",
       "      <td>0</td>\n",
       "      <td>golf</td>\n",
       "      <td>150000</td>\n",
       "      <td>0</td>\n",
       "      <td>petrol</td>\n",
       "      <td>volkswagen</td>\n",
       "      <td>NaN</td>\n",
       "      <td>24/03/2016 00:00</td>\n",
       "      <td>0</td>\n",
       "      <td>70435</td>\n",
       "      <td>07/04/2016 03:16</td>\n",
       "    </tr>\n",
       "    <tr>\n",
       "      <th>1</th>\n",
       "      <td>24/03/2016 10:58</td>\n",
       "      <td>18300</td>\n",
       "      <td>coupe</td>\n",
       "      <td>2011</td>\n",
       "      <td>manual</td>\n",
       "      <td>190</td>\n",
       "      <td>NaN</td>\n",
       "      <td>125000</td>\n",
       "      <td>5</td>\n",
       "      <td>gasoline</td>\n",
       "      <td>audi</td>\n",
       "      <td>yes</td>\n",
       "      <td>24/03/2016 00:00</td>\n",
       "      <td>0</td>\n",
       "      <td>66954</td>\n",
       "      <td>07/04/2016 01:46</td>\n",
       "    </tr>\n",
       "    <tr>\n",
       "      <th>2</th>\n",
       "      <td>14/03/2016 12:52</td>\n",
       "      <td>9800</td>\n",
       "      <td>suv</td>\n",
       "      <td>2004</td>\n",
       "      <td>auto</td>\n",
       "      <td>163</td>\n",
       "      <td>grand</td>\n",
       "      <td>125000</td>\n",
       "      <td>8</td>\n",
       "      <td>gasoline</td>\n",
       "      <td>jeep</td>\n",
       "      <td>NaN</td>\n",
       "      <td>14/03/2016 00:00</td>\n",
       "      <td>0</td>\n",
       "      <td>90480</td>\n",
       "      <td>05/04/2016 12:47</td>\n",
       "    </tr>\n",
       "    <tr>\n",
       "      <th>3</th>\n",
       "      <td>17/03/2016 16:54</td>\n",
       "      <td>1500</td>\n",
       "      <td>small</td>\n",
       "      <td>2001</td>\n",
       "      <td>manual</td>\n",
       "      <td>75</td>\n",
       "      <td>golf</td>\n",
       "      <td>150000</td>\n",
       "      <td>6</td>\n",
       "      <td>petrol</td>\n",
       "      <td>volkswagen</td>\n",
       "      <td>no</td>\n",
       "      <td>17/03/2016 00:00</td>\n",
       "      <td>0</td>\n",
       "      <td>91074</td>\n",
       "      <td>17/03/2016 17:40</td>\n",
       "    </tr>\n",
       "    <tr>\n",
       "      <th>4</th>\n",
       "      <td>31/03/2016 17:25</td>\n",
       "      <td>3600</td>\n",
       "      <td>small</td>\n",
       "      <td>2008</td>\n",
       "      <td>manual</td>\n",
       "      <td>69</td>\n",
       "      <td>fabia</td>\n",
       "      <td>90000</td>\n",
       "      <td>7</td>\n",
       "      <td>gasoline</td>\n",
       "      <td>skoda</td>\n",
       "      <td>no</td>\n",
       "      <td>31/03/2016 00:00</td>\n",
       "      <td>0</td>\n",
       "      <td>60437</td>\n",
       "      <td>06/04/2016 10:17</td>\n",
       "    </tr>\n",
       "  </tbody>\n",
       "</table>\n",
       "</div>"
      ],
      "text/plain": [
       "        DateCrawled  Price VehicleType  RegistrationYear Gearbox  Power  \\\n",
       "0  24/03/2016 11:52    480         NaN              1993  manual      0   \n",
       "1  24/03/2016 10:58  18300       coupe              2011  manual    190   \n",
       "2  14/03/2016 12:52   9800         suv              2004    auto    163   \n",
       "3  17/03/2016 16:54   1500       small              2001  manual     75   \n",
       "4  31/03/2016 17:25   3600       small              2008  manual     69   \n",
       "\n",
       "   Model  Mileage  RegistrationMonth  FuelType       Brand NotRepaired  \\\n",
       "0   golf   150000                  0    petrol  volkswagen         NaN   \n",
       "1    NaN   125000                  5  gasoline        audi         yes   \n",
       "2  grand   125000                  8  gasoline        jeep         NaN   \n",
       "3   golf   150000                  6    petrol  volkswagen          no   \n",
       "4  fabia    90000                  7  gasoline       skoda          no   \n",
       "\n",
       "        DateCreated  NumberOfPictures  PostalCode          LastSeen  \n",
       "0  24/03/2016 00:00                 0       70435  07/04/2016 03:16  \n",
       "1  24/03/2016 00:00                 0       66954  07/04/2016 01:46  \n",
       "2  14/03/2016 00:00                 0       90480  05/04/2016 12:47  \n",
       "3  17/03/2016 00:00                 0       91074  17/03/2016 17:40  \n",
       "4  31/03/2016 00:00                 0       60437  06/04/2016 10:17  "
      ]
     },
     "execution_count": 3,
     "metadata": {},
     "output_type": "execute_result"
    }
   ],
   "source": [
    "data.head()"
   ]
  },
  {
   "cell_type": "code",
   "execution_count": 4,
   "metadata": {},
   "outputs": [
    {
     "data": {
      "text/html": [
       "<div>\n",
       "<style scoped>\n",
       "    .dataframe tbody tr th:only-of-type {\n",
       "        vertical-align: middle;\n",
       "    }\n",
       "\n",
       "    .dataframe tbody tr th {\n",
       "        vertical-align: top;\n",
       "    }\n",
       "\n",
       "    .dataframe thead th {\n",
       "        text-align: right;\n",
       "    }\n",
       "</style>\n",
       "<table border=\"1\" class=\"dataframe\">\n",
       "  <thead>\n",
       "    <tr style=\"text-align: right;\">\n",
       "      <th></th>\n",
       "      <th>Price</th>\n",
       "      <th>RegistrationYear</th>\n",
       "      <th>Power</th>\n",
       "      <th>Mileage</th>\n",
       "      <th>RegistrationMonth</th>\n",
       "      <th>NumberOfPictures</th>\n",
       "      <th>PostalCode</th>\n",
       "    </tr>\n",
       "  </thead>\n",
       "  <tbody>\n",
       "    <tr>\n",
       "      <th>count</th>\n",
       "      <td>354369.000000</td>\n",
       "      <td>354369.000000</td>\n",
       "      <td>354369.000000</td>\n",
       "      <td>354369.000000</td>\n",
       "      <td>354369.000000</td>\n",
       "      <td>354369.0</td>\n",
       "      <td>354369.000000</td>\n",
       "    </tr>\n",
       "    <tr>\n",
       "      <th>mean</th>\n",
       "      <td>4416.656776</td>\n",
       "      <td>2004.234448</td>\n",
       "      <td>110.094337</td>\n",
       "      <td>128211.172535</td>\n",
       "      <td>5.714645</td>\n",
       "      <td>0.0</td>\n",
       "      <td>50508.689087</td>\n",
       "    </tr>\n",
       "    <tr>\n",
       "      <th>std</th>\n",
       "      <td>4514.158514</td>\n",
       "      <td>90.227958</td>\n",
       "      <td>189.850405</td>\n",
       "      <td>37905.341530</td>\n",
       "      <td>3.726421</td>\n",
       "      <td>0.0</td>\n",
       "      <td>25783.096248</td>\n",
       "    </tr>\n",
       "    <tr>\n",
       "      <th>min</th>\n",
       "      <td>0.000000</td>\n",
       "      <td>1000.000000</td>\n",
       "      <td>0.000000</td>\n",
       "      <td>5000.000000</td>\n",
       "      <td>0.000000</td>\n",
       "      <td>0.0</td>\n",
       "      <td>1067.000000</td>\n",
       "    </tr>\n",
       "    <tr>\n",
       "      <th>25%</th>\n",
       "      <td>1050.000000</td>\n",
       "      <td>1999.000000</td>\n",
       "      <td>69.000000</td>\n",
       "      <td>125000.000000</td>\n",
       "      <td>3.000000</td>\n",
       "      <td>0.0</td>\n",
       "      <td>30165.000000</td>\n",
       "    </tr>\n",
       "    <tr>\n",
       "      <th>50%</th>\n",
       "      <td>2700.000000</td>\n",
       "      <td>2003.000000</td>\n",
       "      <td>105.000000</td>\n",
       "      <td>150000.000000</td>\n",
       "      <td>6.000000</td>\n",
       "      <td>0.0</td>\n",
       "      <td>49413.000000</td>\n",
       "    </tr>\n",
       "    <tr>\n",
       "      <th>75%</th>\n",
       "      <td>6400.000000</td>\n",
       "      <td>2008.000000</td>\n",
       "      <td>143.000000</td>\n",
       "      <td>150000.000000</td>\n",
       "      <td>9.000000</td>\n",
       "      <td>0.0</td>\n",
       "      <td>71083.000000</td>\n",
       "    </tr>\n",
       "    <tr>\n",
       "      <th>max</th>\n",
       "      <td>20000.000000</td>\n",
       "      <td>9999.000000</td>\n",
       "      <td>20000.000000</td>\n",
       "      <td>150000.000000</td>\n",
       "      <td>12.000000</td>\n",
       "      <td>0.0</td>\n",
       "      <td>99998.000000</td>\n",
       "    </tr>\n",
       "  </tbody>\n",
       "</table>\n",
       "</div>"
      ],
      "text/plain": [
       "               Price  RegistrationYear          Power        Mileage  \\\n",
       "count  354369.000000     354369.000000  354369.000000  354369.000000   \n",
       "mean     4416.656776       2004.234448     110.094337  128211.172535   \n",
       "std      4514.158514         90.227958     189.850405   37905.341530   \n",
       "min         0.000000       1000.000000       0.000000    5000.000000   \n",
       "25%      1050.000000       1999.000000      69.000000  125000.000000   \n",
       "50%      2700.000000       2003.000000     105.000000  150000.000000   \n",
       "75%      6400.000000       2008.000000     143.000000  150000.000000   \n",
       "max     20000.000000       9999.000000   20000.000000  150000.000000   \n",
       "\n",
       "       RegistrationMonth  NumberOfPictures     PostalCode  \n",
       "count      354369.000000          354369.0  354369.000000  \n",
       "mean            5.714645               0.0   50508.689087  \n",
       "std             3.726421               0.0   25783.096248  \n",
       "min             0.000000               0.0    1067.000000  \n",
       "25%             3.000000               0.0   30165.000000  \n",
       "50%             6.000000               0.0   49413.000000  \n",
       "75%             9.000000               0.0   71083.000000  \n",
       "max            12.000000               0.0   99998.000000  "
      ]
     },
     "execution_count": 4,
     "metadata": {},
     "output_type": "execute_result"
    }
   ],
   "source": [
    "data.describe()"
   ]
  },
  {
   "cell_type": "markdown",
   "metadata": {},
   "source": [
    "<span style=color:blue>**Comentario**</span>\n",
    "\n",
    "- Hay datos ausentes en varias columnas categóricas:\n",
    "    - VehicleType\n",
    "    - Gearbox\n",
    "    - Model\n",
    "    - FuelType\n",
    "    - NotRepaired\n",
    "- Considero que las columnas DateCrawled, DateCreated, RegistrationMonth, PostalCode y LastSeen no aportan información valiosa para la predicción, por lo que las eliminaré.\n",
    "- Todos los valores de la columna NumberOfPictures son 0, tampoco aporta valor.\n",
    "- Hay autos con precio de venta de 0\n",
    "- Hay años de registro sin sentido, como año 1000 o 9999\n",
    "- Hay autos con potencia de 0"
   ]
  },
  {
   "cell_type": "markdown",
   "metadata": {},
   "source": [
    "### Exploración de datos duplicados"
   ]
  },
  {
   "cell_type": "code",
   "execution_count": 5,
   "metadata": {},
   "outputs": [
    {
     "data": {
      "text/plain": [
       "262"
      ]
     },
     "execution_count": 5,
     "metadata": {},
     "output_type": "execute_result"
    }
   ],
   "source": [
    "data.duplicated().sum()"
   ]
  },
  {
   "cell_type": "code",
   "execution_count": 6,
   "metadata": {},
   "outputs": [
    {
     "name": "stdout",
     "output_type": "stream",
     "text": [
      "<class 'pandas.core.frame.DataFrame'>\n",
      "Index: 354107 entries, 0 to 354368\n",
      "Data columns (total 16 columns):\n",
      " #   Column             Non-Null Count   Dtype \n",
      "---  ------             --------------   ----- \n",
      " 0   DateCrawled        354107 non-null  object\n",
      " 1   Price              354107 non-null  int64 \n",
      " 2   VehicleType        316623 non-null  object\n",
      " 3   RegistrationYear   354107 non-null  int64 \n",
      " 4   Gearbox            334277 non-null  object\n",
      " 5   Power              354107 non-null  int64 \n",
      " 6   Model              334406 non-null  object\n",
      " 7   Mileage            354107 non-null  int64 \n",
      " 8   RegistrationMonth  354107 non-null  int64 \n",
      " 9   FuelType           321218 non-null  object\n",
      " 10  Brand              354107 non-null  object\n",
      " 11  NotRepaired        282962 non-null  object\n",
      " 12  DateCreated        354107 non-null  object\n",
      " 13  NumberOfPictures   354107 non-null  int64 \n",
      " 14  PostalCode         354107 non-null  int64 \n",
      " 15  LastSeen           354107 non-null  object\n",
      "dtypes: int64(7), object(9)\n",
      "memory usage: 45.9+ MB\n"
     ]
    }
   ],
   "source": [
    "# Eliminación de duplicados\n",
    "data.drop_duplicates(inplace=True)\n",
    "data.info()"
   ]
  },
  {
   "cell_type": "markdown",
   "metadata": {},
   "source": [
    "### Eliminación de columnas no valiosas para el modelo"
   ]
  },
  {
   "cell_type": "code",
   "execution_count": 7,
   "metadata": {},
   "outputs": [
    {
     "name": "stdout",
     "output_type": "stream",
     "text": [
      "<class 'pandas.core.frame.DataFrame'>\n",
      "Index: 354107 entries, 0 to 354368\n",
      "Data columns (total 10 columns):\n",
      " #   Column            Non-Null Count   Dtype \n",
      "---  ------            --------------   ----- \n",
      " 0   Price             354107 non-null  int64 \n",
      " 1   VehicleType       316623 non-null  object\n",
      " 2   RegistrationYear  354107 non-null  int64 \n",
      " 3   Gearbox           334277 non-null  object\n",
      " 4   Power             354107 non-null  int64 \n",
      " 5   Model             334406 non-null  object\n",
      " 6   Mileage           354107 non-null  int64 \n",
      " 7   FuelType          321218 non-null  object\n",
      " 8   Brand             354107 non-null  object\n",
      " 9   NotRepaired       282962 non-null  object\n",
      "dtypes: int64(4), object(6)\n",
      "memory usage: 29.7+ MB\n"
     ]
    }
   ],
   "source": [
    "columns_drop = ['DateCrawled', 'DateCreated', 'RegistrationMonth',\n",
    "                'NumberOfPictures', 'PostalCode', 'LastSeen']\n",
    "\n",
    "\n",
    "\n",
    "data_1 = data.drop(columns=columns_drop)\n",
    "\n",
    "\n",
    "data_1.info()"
   ]
  },
  {
   "cell_type": "code",
   "execution_count": 8,
   "metadata": {},
   "outputs": [
    {
     "data": {
      "text/html": [
       "<div>\n",
       "<style scoped>\n",
       "    .dataframe tbody tr th:only-of-type {\n",
       "        vertical-align: middle;\n",
       "    }\n",
       "\n",
       "    .dataframe tbody tr th {\n",
       "        vertical-align: top;\n",
       "    }\n",
       "\n",
       "    .dataframe thead th {\n",
       "        text-align: right;\n",
       "    }\n",
       "</style>\n",
       "<table border=\"1\" class=\"dataframe\">\n",
       "  <thead>\n",
       "    <tr style=\"text-align: right;\">\n",
       "      <th></th>\n",
       "      <th>Price</th>\n",
       "      <th>VehicleType</th>\n",
       "      <th>RegistrationYear</th>\n",
       "      <th>Gearbox</th>\n",
       "      <th>Power</th>\n",
       "      <th>Model</th>\n",
       "      <th>Mileage</th>\n",
       "      <th>FuelType</th>\n",
       "      <th>Brand</th>\n",
       "      <th>NotRepaired</th>\n",
       "    </tr>\n",
       "  </thead>\n",
       "  <tbody>\n",
       "    <tr>\n",
       "      <th>0</th>\n",
       "      <td>480</td>\n",
       "      <td>NaN</td>\n",
       "      <td>1993</td>\n",
       "      <td>manual</td>\n",
       "      <td>0</td>\n",
       "      <td>golf</td>\n",
       "      <td>150000</td>\n",
       "      <td>petrol</td>\n",
       "      <td>volkswagen</td>\n",
       "      <td>NaN</td>\n",
       "    </tr>\n",
       "    <tr>\n",
       "      <th>1</th>\n",
       "      <td>18300</td>\n",
       "      <td>coupe</td>\n",
       "      <td>2011</td>\n",
       "      <td>manual</td>\n",
       "      <td>190</td>\n",
       "      <td>NaN</td>\n",
       "      <td>125000</td>\n",
       "      <td>gasoline</td>\n",
       "      <td>audi</td>\n",
       "      <td>yes</td>\n",
       "    </tr>\n",
       "    <tr>\n",
       "      <th>2</th>\n",
       "      <td>9800</td>\n",
       "      <td>suv</td>\n",
       "      <td>2004</td>\n",
       "      <td>auto</td>\n",
       "      <td>163</td>\n",
       "      <td>grand</td>\n",
       "      <td>125000</td>\n",
       "      <td>gasoline</td>\n",
       "      <td>jeep</td>\n",
       "      <td>NaN</td>\n",
       "    </tr>\n",
       "    <tr>\n",
       "      <th>3</th>\n",
       "      <td>1500</td>\n",
       "      <td>small</td>\n",
       "      <td>2001</td>\n",
       "      <td>manual</td>\n",
       "      <td>75</td>\n",
       "      <td>golf</td>\n",
       "      <td>150000</td>\n",
       "      <td>petrol</td>\n",
       "      <td>volkswagen</td>\n",
       "      <td>no</td>\n",
       "    </tr>\n",
       "    <tr>\n",
       "      <th>4</th>\n",
       "      <td>3600</td>\n",
       "      <td>small</td>\n",
       "      <td>2008</td>\n",
       "      <td>manual</td>\n",
       "      <td>69</td>\n",
       "      <td>fabia</td>\n",
       "      <td>90000</td>\n",
       "      <td>gasoline</td>\n",
       "      <td>skoda</td>\n",
       "      <td>no</td>\n",
       "    </tr>\n",
       "  </tbody>\n",
       "</table>\n",
       "</div>"
      ],
      "text/plain": [
       "   Price VehicleType  RegistrationYear Gearbox  Power  Model  Mileage  \\\n",
       "0    480         NaN              1993  manual      0   golf   150000   \n",
       "1  18300       coupe              2011  manual    190    NaN   125000   \n",
       "2   9800         suv              2004    auto    163  grand   125000   \n",
       "3   1500       small              2001  manual     75   golf   150000   \n",
       "4   3600       small              2008  manual     69  fabia    90000   \n",
       "\n",
       "   FuelType       Brand NotRepaired  \n",
       "0    petrol  volkswagen         NaN  \n",
       "1  gasoline        audi         yes  \n",
       "2  gasoline        jeep         NaN  \n",
       "3    petrol  volkswagen          no  \n",
       "4  gasoline       skoda          no  "
      ]
     },
     "execution_count": 8,
     "metadata": {},
     "output_type": "execute_result"
    }
   ],
   "source": [
    "data_1.head()"
   ]
  },
  {
   "cell_type": "markdown",
   "metadata": {},
   "source": [
    "### Exploración de datos ausentes"
   ]
  },
  {
   "cell_type": "code",
   "execution_count": 9,
   "metadata": {},
   "outputs": [
    {
     "data": {
      "text/plain": [
       "Price                   0\n",
       "VehicleType         37484\n",
       "RegistrationYear        0\n",
       "Gearbox             19830\n",
       "Power                   0\n",
       "Model               19701\n",
       "Mileage                 0\n",
       "FuelType            32889\n",
       "Brand                   0\n",
       "NotRepaired         71145\n",
       "dtype: int64"
      ]
     },
     "execution_count": 9,
     "metadata": {},
     "output_type": "execute_result"
    }
   ],
   "source": [
    "data_1.isna().sum()"
   ]
  },
  {
   "cell_type": "code",
   "execution_count": 10,
   "metadata": {},
   "outputs": [],
   "source": [
    "# Filtro para encontrar los valores ausentes simultaneos en todas las columnas\n",
    "data_na = data_1.query(\n",
    "    'VehicleType.isna() and Gearbox.isna() and Model.isna() and FuelType.isna() and NotRepaired.isna()')"
   ]
  },
  {
   "cell_type": "code",
   "execution_count": 11,
   "metadata": {},
   "outputs": [
    {
     "data": {
      "text/html": [
       "<div>\n",
       "<style scoped>\n",
       "    .dataframe tbody tr th:only-of-type {\n",
       "        vertical-align: middle;\n",
       "    }\n",
       "\n",
       "    .dataframe tbody tr th {\n",
       "        vertical-align: top;\n",
       "    }\n",
       "\n",
       "    .dataframe thead th {\n",
       "        text-align: right;\n",
       "    }\n",
       "</style>\n",
       "<table border=\"1\" class=\"dataframe\">\n",
       "  <thead>\n",
       "    <tr style=\"text-align: right;\">\n",
       "      <th></th>\n",
       "      <th>Price</th>\n",
       "      <th>RegistrationYear</th>\n",
       "      <th>Power</th>\n",
       "      <th>Mileage</th>\n",
       "    </tr>\n",
       "  </thead>\n",
       "  <tbody>\n",
       "    <tr>\n",
       "      <th>count</th>\n",
       "      <td>2236.000000</td>\n",
       "      <td>2236.000000</td>\n",
       "      <td>2236.000000</td>\n",
       "      <td>2236.000000</td>\n",
       "    </tr>\n",
       "    <tr>\n",
       "      <th>mean</th>\n",
       "      <td>1129.788909</td>\n",
       "      <td>2061.372987</td>\n",
       "      <td>11.595259</td>\n",
       "      <td>92468.694097</td>\n",
       "    </tr>\n",
       "    <tr>\n",
       "      <th>std</th>\n",
       "      <td>2474.074364</td>\n",
       "      <td>707.515655</td>\n",
       "      <td>48.905372</td>\n",
       "      <td>64987.945220</td>\n",
       "    </tr>\n",
       "    <tr>\n",
       "      <th>min</th>\n",
       "      <td>0.000000</td>\n",
       "      <td>1000.000000</td>\n",
       "      <td>0.000000</td>\n",
       "      <td>5000.000000</td>\n",
       "    </tr>\n",
       "    <tr>\n",
       "      <th>25%</th>\n",
       "      <td>0.000000</td>\n",
       "      <td>1995.000000</td>\n",
       "      <td>0.000000</td>\n",
       "      <td>5000.000000</td>\n",
       "    </tr>\n",
       "    <tr>\n",
       "      <th>50%</th>\n",
       "      <td>200.000000</td>\n",
       "      <td>2000.000000</td>\n",
       "      <td>0.000000</td>\n",
       "      <td>125000.000000</td>\n",
       "    </tr>\n",
       "    <tr>\n",
       "      <th>75%</th>\n",
       "      <td>1000.000000</td>\n",
       "      <td>2005.000000</td>\n",
       "      <td>0.000000</td>\n",
       "      <td>150000.000000</td>\n",
       "    </tr>\n",
       "    <tr>\n",
       "      <th>max</th>\n",
       "      <td>20000.000000</td>\n",
       "      <td>9999.000000</td>\n",
       "      <td>1000.000000</td>\n",
       "      <td>150000.000000</td>\n",
       "    </tr>\n",
       "  </tbody>\n",
       "</table>\n",
       "</div>"
      ],
      "text/plain": [
       "              Price  RegistrationYear        Power        Mileage\n",
       "count   2236.000000       2236.000000  2236.000000    2236.000000\n",
       "mean    1129.788909       2061.372987    11.595259   92468.694097\n",
       "std     2474.074364        707.515655    48.905372   64987.945220\n",
       "min        0.000000       1000.000000     0.000000    5000.000000\n",
       "25%        0.000000       1995.000000     0.000000    5000.000000\n",
       "50%      200.000000       2000.000000     0.000000  125000.000000\n",
       "75%     1000.000000       2005.000000     0.000000  150000.000000\n",
       "max    20000.000000       9999.000000  1000.000000  150000.000000"
      ]
     },
     "execution_count": 11,
     "metadata": {},
     "output_type": "execute_result"
    }
   ],
   "source": [
    "data_na.describe()"
   ]
  },
  {
   "cell_type": "markdown",
   "metadata": {},
   "source": [
    "<span style=color:blue>**Comentario**</span>\n",
    "\n",
    "- Hay 2236 filas con valores ausentes en todas las columnas categóricas simultáneamente. \n",
    "- Las eliminaré del dataframe."
   ]
  },
  {
   "cell_type": "code",
   "execution_count": 12,
   "metadata": {},
   "outputs": [],
   "source": [
    "# Eliminación de las 2236 filas con valores ausentes\n",
    "delete_row = data_na.index\n",
    "\n",
    "data_1.drop(delete_row, inplace=True)"
   ]
  },
  {
   "cell_type": "code",
   "execution_count": 13,
   "metadata": {},
   "outputs": [
    {
     "data": {
      "text/plain": [
       "Price                   0\n",
       "VehicleType         35248\n",
       "RegistrationYear        0\n",
       "Gearbox             17594\n",
       "Power                   0\n",
       "Model               17465\n",
       "Mileage                 0\n",
       "FuelType            30653\n",
       "Brand                   0\n",
       "NotRepaired         68909\n",
       "dtype: int64"
      ]
     },
     "execution_count": 13,
     "metadata": {},
     "output_type": "execute_result"
    }
   ],
   "source": [
    "data_1.isna().sum()"
   ]
  },
  {
   "cell_type": "markdown",
   "metadata": {},
   "source": [
    "#### Exploración de columnas categóricas con datos ausentes"
   ]
  },
  {
   "cell_type": "code",
   "execution_count": 14,
   "metadata": {},
   "outputs": [
    {
     "data": {
      "text/plain": [
       "VehicleType\n",
       "sedan          91399\n",
       "small          79753\n",
       "wagon          65115\n",
       "NaN            35248\n",
       "bus            28752\n",
       "convertible    20180\n",
       "coupe          16147\n",
       "suv            11991\n",
       "other           3286\n",
       "Name: count, dtype: int64"
      ]
     },
     "execution_count": 14,
     "metadata": {},
     "output_type": "execute_result"
    }
   ],
   "source": [
    "# Conteo de valores únicos en el dataframe\n",
    "data_1['VehicleType'].value_counts(dropna=False)"
   ]
  },
  {
   "cell_type": "code",
   "execution_count": 15,
   "metadata": {},
   "outputs": [
    {
     "data": {
      "text/plain": [
       "VehicleType\n",
       "bus            5486.293127\n",
       "convertible    6806.707582\n",
       "coupe          6010.048430\n",
       "other          3563.024954\n",
       "sedan          4722.808247\n",
       "small          2677.227402\n",
       "suv            9009.410725\n",
       "wagon          4880.275298\n",
       "NaN            2454.672180\n",
       "Name: Price, dtype: float64"
      ]
     },
     "execution_count": 15,
     "metadata": {},
     "output_type": "execute_result"
    }
   ],
   "source": [
    "# Agrupación por tipo de vehiculo y precio promedio\n",
    "data_1.groupby('VehicleType', dropna=False)['Price'].mean()"
   ]
  },
  {
   "cell_type": "markdown",
   "metadata": {},
   "source": [
    "<span style=color:blue>**Comentario**</span>\n",
    "\n",
    "- El tipo de vehiculo \"other\" ocupa el cuarto lugar en el ranking de precios promedio, mientras que los autos sin tipo ocupan el último lugar.\n",
    "- Convertiré todos los valores NaN de esta columna en 'other' "
   ]
  },
  {
   "cell_type": "code",
   "execution_count": 16,
   "metadata": {},
   "outputs": [
    {
     "data": {
      "text/plain": [
       "Gearbox\n",
       "manual    268034\n",
       "auto       66243\n",
       "NaN        17594\n",
       "Name: count, dtype: int64"
      ]
     },
     "execution_count": 16,
     "metadata": {},
     "output_type": "execute_result"
    }
   ],
   "source": [
    "# Conteo de valores unicos en columna Gearbox\n",
    "data_1['Gearbox'].value_counts(dropna=False)"
   ]
  },
  {
   "cell_type": "markdown",
   "metadata": {},
   "source": [
    "<span style=color:blue>**Comentario**</span>\n",
    "\n",
    "- Los valores ausentes en esta categoría podrían ser autos que combinan ambos tipo de maquinaria.\n",
    "- Cambiaré los valores ausentes a \"other\""
   ]
  },
  {
   "cell_type": "code",
   "execution_count": 17,
   "metadata": {},
   "outputs": [
    {
     "data": {
      "text/plain": [
       "Model\n",
       "golf                  29215\n",
       "other                 24402\n",
       "3er                   19744\n",
       "NaN                   17465\n",
       "polo                  13057\n",
       "                      ...  \n",
       "i3                        8\n",
       "serie_3                   4\n",
       "rangerover                4\n",
       "range_rover_evoque        2\n",
       "serie_1                   2\n",
       "Name: count, Length: 251, dtype: int64"
      ]
     },
     "execution_count": 17,
     "metadata": {},
     "output_type": "execute_result"
    }
   ],
   "source": [
    "# conteo de valores únicos en modelos\n",
    "data_1['Model'].value_counts(dropna=False)"
   ]
  },
  {
   "cell_type": "code",
   "execution_count": 18,
   "metadata": {},
   "outputs": [],
   "source": [
    "# Agrupación por modelo de vehiculo y precio promedio\n",
    "model_price = data_1.groupby('Model', dropna=False)['Price'].mean()"
   ]
  },
  {
   "cell_type": "code",
   "execution_count": 19,
   "metadata": {},
   "outputs": [
    {
     "data": {
      "text/html": [
       "<div>\n",
       "<style scoped>\n",
       "    .dataframe tbody tr th:only-of-type {\n",
       "        vertical-align: middle;\n",
       "    }\n",
       "\n",
       "    .dataframe tbody tr th {\n",
       "        vertical-align: top;\n",
       "    }\n",
       "\n",
       "    .dataframe thead th {\n",
       "        text-align: right;\n",
       "    }\n",
       "</style>\n",
       "<table border=\"1\" class=\"dataframe\">\n",
       "  <thead>\n",
       "    <tr style=\"text-align: right;\">\n",
       "      <th></th>\n",
       "      <th>Model</th>\n",
       "      <th>Price</th>\n",
       "    </tr>\n",
       "  </thead>\n",
       "  <tbody>\n",
       "    <tr>\n",
       "      <th>166</th>\n",
       "      <td>other</td>\n",
       "      <td>4417.218589</td>\n",
       "    </tr>\n",
       "    <tr>\n",
       "      <th>250</th>\n",
       "      <td>NaN</td>\n",
       "      <td>3156.892184</td>\n",
       "    </tr>\n",
       "  </tbody>\n",
       "</table>\n",
       "</div>"
      ],
      "text/plain": [
       "     Model        Price\n",
       "166  other  4417.218589\n",
       "250    NaN  3156.892184"
      ]
     },
     "execution_count": 19,
     "metadata": {},
     "output_type": "execute_result"
    }
   ],
   "source": [
    "model_price.reset_index().query('Model == \"other\" or Model.isna()')"
   ]
  },
  {
   "cell_type": "markdown",
   "metadata": {},
   "source": [
    "<span style=color:blue>**Comentario**</span>\n",
    "\n",
    "- El modelo de vehiculo \"other\" ocupa el segundo lugar en el conteo de registros de autos, sin embargo es la posición 167 en precio promedio.\n",
    "- Los autos con modelos ausente, ocupan el último lugar en precio promedio.\n",
    "- Convertiré los valores ausentes a \"other\""
   ]
  },
  {
   "cell_type": "code",
   "execution_count": 20,
   "metadata": {},
   "outputs": [
    {
     "data": {
      "text/plain": [
       "FuelType\n",
       "petrol      216161\n",
       "gasoline     98658\n",
       "NaN          30653\n",
       "lpg           5307\n",
       "cng            565\n",
       "hybrid         233\n",
       "other          204\n",
       "electric        90\n",
       "Name: count, dtype: int64"
      ]
     },
     "execution_count": 20,
     "metadata": {},
     "output_type": "execute_result"
    }
   ],
   "source": [
    "# Conteo de valores únicos en tipo de combustible\n",
    "data_1['FuelType'].value_counts(dropna=False)"
   ]
  },
  {
   "cell_type": "code",
   "execution_count": 21,
   "metadata": {},
   "outputs": [
    {
     "data": {
      "text/plain": [
       "FuelType\n",
       "cng         4464.661947\n",
       "electric    6657.711111\n",
       "gasoline    6580.017647\n",
       "hybrid      9465.356223\n",
       "lpg         4040.142830\n",
       "other       2312.029412\n",
       "petrol      3749.546232\n",
       "NaN         2428.696767\n",
       "Name: Price, dtype: float64"
      ]
     },
     "execution_count": 21,
     "metadata": {},
     "output_type": "execute_result"
    }
   ],
   "source": [
    "# Agrupación por tipo de combustible y precio promedio\n",
    "data_1.groupby('FuelType', dropna=False)['Price'].mean()"
   ]
  },
  {
   "cell_type": "markdown",
   "metadata": {},
   "source": [
    "<span style=color:blue>**Comentario**</span>\n",
    "\n",
    "- El tipo de combustible \"other\" y los ausentes, están en las últimas posiciones de precios promedios.\n",
    "- Convertiré los valores ausentes en \"other\""
   ]
  },
  {
   "cell_type": "code",
   "execution_count": 22,
   "metadata": {},
   "outputs": [
    {
     "data": {
      "text/plain": [
       "NotRepaired\n",
       "no     246927\n",
       "NaN     68909\n",
       "yes     36035\n",
       "Name: count, dtype: int64"
      ]
     },
     "execution_count": 22,
     "metadata": {},
     "output_type": "execute_result"
    }
   ],
   "source": [
    "# Conteo de valores unicos en columna de reparaciones\n",
    "data_1['NotRepaired'].value_counts(dropna=False)"
   ]
  },
  {
   "cell_type": "code",
   "execution_count": 23,
   "metadata": {},
   "outputs": [
    {
     "data": {
      "text/plain": [
       "NotRepaired\n",
       "no     5297.025526\n",
       "yes    1916.151131\n",
       "NaN    2675.073009\n",
       "Name: Price, dtype: float64"
      ]
     },
     "execution_count": 23,
     "metadata": {},
     "output_type": "execute_result"
    }
   ],
   "source": [
    "# Agrupación por reparaciones y precio promedio\n",
    "data_1.groupby('NotRepaired', dropna=False)['Price'].mean()"
   ]
  },
  {
   "cell_type": "markdown",
   "metadata": {},
   "source": [
    "<span style=color:blue>**Comentario**</span>\n",
    "\n",
    "- El precio promedio de los autos con ausencia de datos de reparación es mayor que el de aquellos que reportaron una reparación, por lo que asumiré que se trata de autos sin reparación.\n",
    "- Cambiaré los valores ausentes por \"no\""
   ]
  },
  {
   "cell_type": "markdown",
   "metadata": {},
   "source": [
    "#### Ajuste de valores ausentes "
   ]
  },
  {
   "cell_type": "code",
   "execution_count": 24,
   "metadata": {},
   "outputs": [],
   "source": [
    "# Cambio de NaN a \"other\" en VehicleType\n",
    "data_1.fillna({'VehicleType': 'other'}, inplace=True)"
   ]
  },
  {
   "cell_type": "code",
   "execution_count": 25,
   "metadata": {},
   "outputs": [],
   "source": [
    "# Cambio de NaN a \"other\" en Gearbox\n",
    "data_1.fillna({'Gearbox': 'other'}, inplace=True)"
   ]
  },
  {
   "cell_type": "code",
   "execution_count": 26,
   "metadata": {},
   "outputs": [],
   "source": [
    "# Cambio de NaN a \"other\" en Model\n",
    "data_1.fillna({'Model': 'other'}, inplace=True)"
   ]
  },
  {
   "cell_type": "code",
   "execution_count": 27,
   "metadata": {},
   "outputs": [],
   "source": [
    "# Cambio de NaN a \"other\" en FuelType\n",
    "data_1.fillna({'FuelType': 'other'}, inplace=True)"
   ]
  },
  {
   "cell_type": "code",
   "execution_count": 28,
   "metadata": {},
   "outputs": [],
   "source": [
    "# Cambio de NaN a \"no\" en NotRepaired\n",
    "data_1.fillna({'NotRepaired': 'no'}, inplace=True)"
   ]
  },
  {
   "cell_type": "code",
   "execution_count": 29,
   "metadata": {},
   "outputs": [
    {
     "name": "stdout",
     "output_type": "stream",
     "text": [
      "<class 'pandas.core.frame.DataFrame'>\n",
      "Index: 351871 entries, 0 to 354368\n",
      "Data columns (total 10 columns):\n",
      " #   Column            Non-Null Count   Dtype \n",
      "---  ------            --------------   ----- \n",
      " 0   Price             351871 non-null  int64 \n",
      " 1   VehicleType       351871 non-null  object\n",
      " 2   RegistrationYear  351871 non-null  int64 \n",
      " 3   Gearbox           351871 non-null  object\n",
      " 4   Power             351871 non-null  int64 \n",
      " 5   Model             351871 non-null  object\n",
      " 6   Mileage           351871 non-null  int64 \n",
      " 7   FuelType          351871 non-null  object\n",
      " 8   Brand             351871 non-null  object\n",
      " 9   NotRepaired       351871 non-null  object\n",
      "dtypes: int64(4), object(6)\n",
      "memory usage: 29.5+ MB\n"
     ]
    }
   ],
   "source": [
    "data_1.info()"
   ]
  },
  {
   "cell_type": "markdown",
   "metadata": {},
   "source": [
    "### Exploración de valores con precios, año de registro y potencias inverosímiles"
   ]
  },
  {
   "cell_type": "code",
   "execution_count": 30,
   "metadata": {},
   "outputs": [
    {
     "data": {
      "text/html": [
       "<div>\n",
       "<style scoped>\n",
       "    .dataframe tbody tr th:only-of-type {\n",
       "        vertical-align: middle;\n",
       "    }\n",
       "\n",
       "    .dataframe tbody tr th {\n",
       "        vertical-align: top;\n",
       "    }\n",
       "\n",
       "    .dataframe thead th {\n",
       "        text-align: right;\n",
       "    }\n",
       "</style>\n",
       "<table border=\"1\" class=\"dataframe\">\n",
       "  <thead>\n",
       "    <tr style=\"text-align: right;\">\n",
       "      <th></th>\n",
       "      <th>Price</th>\n",
       "      <th>RegistrationYear</th>\n",
       "      <th>Power</th>\n",
       "      <th>Mileage</th>\n",
       "    </tr>\n",
       "  </thead>\n",
       "  <tbody>\n",
       "    <tr>\n",
       "      <th>count</th>\n",
       "      <td>351871.000000</td>\n",
       "      <td>351871.000000</td>\n",
       "      <td>351871.000000</td>\n",
       "      <td>351871.000000</td>\n",
       "    </tr>\n",
       "    <tr>\n",
       "      <th>mean</th>\n",
       "      <td>4437.318603</td>\n",
       "      <td>2003.872269</td>\n",
       "      <td>110.715543</td>\n",
       "      <td>128438.944954</td>\n",
       "    </tr>\n",
       "    <tr>\n",
       "      <th>std</th>\n",
       "      <td>4516.724116</td>\n",
       "      <td>70.699431</td>\n",
       "      <td>190.314641</td>\n",
       "      <td>37563.868483</td>\n",
       "    </tr>\n",
       "    <tr>\n",
       "      <th>min</th>\n",
       "      <td>0.000000</td>\n",
       "      <td>1000.000000</td>\n",
       "      <td>0.000000</td>\n",
       "      <td>5000.000000</td>\n",
       "    </tr>\n",
       "    <tr>\n",
       "      <th>25%</th>\n",
       "      <td>1100.000000</td>\n",
       "      <td>1999.000000</td>\n",
       "      <td>69.000000</td>\n",
       "      <td>125000.000000</td>\n",
       "    </tr>\n",
       "    <tr>\n",
       "      <th>50%</th>\n",
       "      <td>2750.000000</td>\n",
       "      <td>2003.000000</td>\n",
       "      <td>105.000000</td>\n",
       "      <td>150000.000000</td>\n",
       "    </tr>\n",
       "    <tr>\n",
       "      <th>75%</th>\n",
       "      <td>6450.000000</td>\n",
       "      <td>2008.000000</td>\n",
       "      <td>143.000000</td>\n",
       "      <td>150000.000000</td>\n",
       "    </tr>\n",
       "    <tr>\n",
       "      <th>max</th>\n",
       "      <td>20000.000000</td>\n",
       "      <td>9999.000000</td>\n",
       "      <td>20000.000000</td>\n",
       "      <td>150000.000000</td>\n",
       "    </tr>\n",
       "  </tbody>\n",
       "</table>\n",
       "</div>"
      ],
      "text/plain": [
       "               Price  RegistrationYear          Power        Mileage\n",
       "count  351871.000000     351871.000000  351871.000000  351871.000000\n",
       "mean     4437.318603       2003.872269     110.715543  128438.944954\n",
       "std      4516.724116         70.699431     190.314641   37563.868483\n",
       "min         0.000000       1000.000000       0.000000    5000.000000\n",
       "25%      1100.000000       1999.000000      69.000000  125000.000000\n",
       "50%      2750.000000       2003.000000     105.000000  150000.000000\n",
       "75%      6450.000000       2008.000000     143.000000  150000.000000\n",
       "max     20000.000000       9999.000000   20000.000000  150000.000000"
      ]
     },
     "execution_count": 30,
     "metadata": {},
     "output_type": "execute_result"
    }
   ],
   "source": [
    "data_1.describe()"
   ]
  },
  {
   "cell_type": "code",
   "execution_count": 31,
   "metadata": {},
   "outputs": [
    {
     "data": {
      "text/plain": [
       "<Axes: ylabel='Price'>"
      ]
     },
     "execution_count": 31,
     "metadata": {},
     "output_type": "execute_result"
    },
    {
     "data": {
      "image/png": "[encoded data removed]",
      "text/plain": [
       "<Figure size 640x480 with 1 Axes>"
      ]
     },
     "metadata": {},
     "output_type": "display_data"
    }
   ],
   "source": [
    "# Diagrama de caja para los precios\n",
    "sns.boxplot(data=data_1['Price'])"
   ]
  },
  {
   "cell_type": "markdown",
   "metadata": {},
   "source": [
    "<span style=color:blue>**Comentario**</span>\n",
    "\n",
    "- Los valores atípicos comienzan cercanos a $15000"
   ]
  },
  {
   "cell_type": "code",
   "execution_count": 32,
   "metadata": {},
   "outputs": [
    {
     "data": {
      "text/plain": [
       "(1985.0, 2020.0)"
      ]
     },
     "execution_count": 32,
     "metadata": {},
     "output_type": "execute_result"
    },
    {
     "data": {
      "image/png": "[encoded data removed]",
      "text/plain": [
       "<Figure size 640x480 with 1 Axes>"
      ]
     },
     "metadata": {},
     "output_type": "display_data"
    }
   ],
   "source": [
    "# Diagrama de caja para los años de registro, ajustando los ejes para mostrar cercano al periodo 1985 - 2020\n",
    "sns.boxplot(data=data_1['RegistrationYear'])\n",
    "plt.ylim(1985, 2020)"
   ]
  },
  {
   "cell_type": "markdown",
   "metadata": {},
   "source": [
    "<span style=color:blue>**Comentario**</span>\n",
    "\n",
    "- Los valores atípicos comienzan por arriba del año 2020 y por debajo del año 1985"
   ]
  },
  {
   "cell_type": "code",
   "execution_count": 33,
   "metadata": {},
   "outputs": [
    {
     "data": {
      "text/plain": [
       "(-5.0, 280.0)"
      ]
     },
     "execution_count": 33,
     "metadata": {},
     "output_type": "execute_result"
    },
    {
     "data": {
      "image/png": "[encoded data removed]",
      "text/plain": [
       "<Figure size 640x480 with 1 Axes>"
      ]
     },
     "metadata": {},
     "output_type": "display_data"
    }
   ],
   "source": [
    "# Diagrama de caja para las potencias, ajustado el eje hasta 280 CV\n",
    "sns.boxplot(data=data_1['Power'])\n",
    "plt.ylim(-5, 280)"
   ]
  },
  {
   "cell_type": "markdown",
   "metadata": {},
   "source": [
    "<span style=color:blue>**Comentario**</span>\n",
    "\n",
    "- Los valores atípicos comienzan por arriba de 250 CV aproximadamente."
   ]
  },
  {
   "cell_type": "code",
   "execution_count": 34,
   "metadata": {},
   "outputs": [
    {
     "name": "stdout",
     "output_type": "stream",
     "text": [
      "Proporción de atípicos en el dataset original\n"
     ]
    },
    {
     "data": {
      "text/html": [
       "<div>\n",
       "<style scoped>\n",
       "    .dataframe tbody tr th:only-of-type {\n",
       "        vertical-align: middle;\n",
       "    }\n",
       "\n",
       "    .dataframe tbody tr th {\n",
       "        vertical-align: top;\n",
       "    }\n",
       "\n",
       "    .dataframe thead th {\n",
       "        text-align: right;\n",
       "    }\n",
       "</style>\n",
       "<table border=\"1\" class=\"dataframe\">\n",
       "  <thead>\n",
       "    <tr style=\"text-align: right;\">\n",
       "      <th></th>\n",
       "      <th>Categoría</th>\n",
       "      <th>%</th>\n",
       "    </tr>\n",
       "  </thead>\n",
       "  <tbody>\n",
       "    <tr>\n",
       "      <th>0</th>\n",
       "      <td>Price</td>\n",
       "      <td>4.222002</td>\n",
       "    </tr>\n",
       "    <tr>\n",
       "      <th>1</th>\n",
       "      <td>RegistrationYear</td>\n",
       "      <td>1.504529</td>\n",
       "    </tr>\n",
       "    <tr>\n",
       "      <th>2</th>\n",
       "      <td>Power</td>\n",
       "      <td>2.113274</td>\n",
       "    </tr>\n",
       "  </tbody>\n",
       "</table>\n",
       "</div>"
      ],
      "text/plain": [
       "          Categoría         %\n",
       "0             Price  4.222002\n",
       "1  RegistrationYear  1.504529\n",
       "2             Power  2.113274"
      ]
     },
     "execution_count": 34,
     "metadata": {},
     "output_type": "execute_result"
    }
   ],
   "source": [
    "# Proporción de atípicos en el dataset\n",
    "\n",
    "# Atípicos en precio\n",
    "p = 100 * data_1.query('Price > 15000').shape[0]/len(data_1)\n",
    "# Atípicos en año de registro\n",
    "yr = 100 * \\\n",
    "    data_1.query(\n",
    "        'RegistrationYear < 1985 or RegistrationYear > 2020').shape[0]/len(data_1)\n",
    "# Atípicos en potencia\n",
    "pw = 100 * data_1.query('Power > 250').shape[0]/len(data_1)\n",
    "\n",
    "out = {'Categoría': ['Price', 'RegistrationYear', 'Power'],\n",
    "       '%': [p, yr, pw]}\n",
    "\n",
    "print('Proporción de atípicos en el dataset original')\n",
    "pd.DataFrame(out)"
   ]
  },
  {
   "cell_type": "markdown",
   "metadata": {},
   "source": [
    "<span style=color:blue>**Comentario**</span>\n",
    "\n",
    "- Los valores atípicos representan cerca del 8% de los datos totales."
   ]
  },
  {
   "cell_type": "code",
   "execution_count": 35,
   "metadata": {},
   "outputs": [
    {
     "data": {
      "text/plain": [
       "array([[<Axes: title={'center': 'Price'}>,\n",
       "        <Axes: title={'center': 'RegistrationYear'}>],\n",
       "       [<Axes: title={'center': 'Power'}>,\n",
       "        <Axes: title={'center': 'Mileage'}>]], dtype=object)"
      ]
     },
     "execution_count": 35,
     "metadata": {},
     "output_type": "execute_result"
    },
    {
     "data": {
      "image/png": "[encoded data removed]",
      "text/plain": [
       "<Figure size 640x480 with 4 Axes>"
      ]
     },
     "metadata": {},
     "output_type": "display_data"
    }
   ],
   "source": [
    "# Exploración de precios en 0 y menores a 10\n",
    "data_1.query('Price < 10').hist()"
   ]
  },
  {
   "cell_type": "markdown",
   "metadata": {},
   "source": [
    "<span style=color:blue>**Comentario**</span>\n",
    "\n",
    "- Hay mayor cantidad de autos con precios de $0 que con precios de $1, el kilometraje principalmente es cercano a 150,000 km y al año de registro es cercano a los 2000."
   ]
  },
  {
   "cell_type": "code",
   "execution_count": 36,
   "metadata": {},
   "outputs": [
    {
     "data": {
      "text/plain": [
       "<Axes: ylabel='Mileage'>"
      ]
     },
     "execution_count": 36,
     "metadata": {},
     "output_type": "execute_result"
    },
    {
     "data": {
      "image/png": "[encoded data removed]",
      "text/plain": [
       "<Figure size 640x480 with 1 Axes>"
      ]
     },
     "metadata": {},
     "output_type": "display_data"
    }
   ],
   "source": [
    "# Disctribución de kilometraje\n",
    "sns.boxplot(data_1['Mileage'])"
   ]
  },
  {
   "cell_type": "markdown",
   "metadata": {},
   "source": [
    "<span style=color:blue>**Comentario**</span>\n",
    "\n",
    "- Los valores atípicos de kilometraje comienzan por debajo de 90000 km aproximadamente."
   ]
  },
  {
   "cell_type": "code",
   "execution_count": 37,
   "metadata": {},
   "outputs": [
    {
     "data": {
      "text/plain": [
       "Price  VehicleType  RegistrationYear  Gearbox  Power  Model   Mileage  FuelType  Brand       NotRepaired\n",
       "0      sedan        1997              manual   75     golf    150000   petrol    volkswagen  no             61\n",
       "                    1998              manual   60     golf    150000   petrol    volkswagen  no             18\n",
       "       small        2012              manual   90     rio     90000    gasoline  kia         no             18\n",
       "       other        2000              other    0      golf    150000   other     volkswagen  no             15\n",
       "       bus          2005              manual   101    vivaro  80000    gasoline  opel        no             15\n",
       "Name: count, dtype: int64"
      ]
     },
     "execution_count": 37,
     "metadata": {},
     "output_type": "execute_result"
    }
   ],
   "source": [
    "# Autos con precios de $0\n",
    "data_1.query('Price == 0').value_counts().head()"
   ]
  },
  {
   "cell_type": "code",
   "execution_count": 38,
   "metadata": {},
   "outputs": [
    {
     "data": {
      "text/plain": [
       "Price  VehicleType  RegistrationYear  Gearbox  Power  Model  Mileage  FuelType  Brand       NotRepaired\n",
       "1      wagon        1998              manual   136    omega  150000   petrol    opel        no             6\n",
       "       other        2000              other    0      polo   150000   other     volkswagen  no             4\n",
       "       small        1999              manual   115    golf   150000   petrol    volkswagen  no             4\n",
       "       wagon        2006              manual   150    3er    150000   petrol    bmw         no             4\n",
       "                    2007              auto     200    3er    150000   gasoline  bmw         no             4\n",
       "Name: count, dtype: int64"
      ]
     },
     "execution_count": 38,
     "metadata": {},
     "output_type": "execute_result"
    }
   ],
   "source": [
    "# Autos con precios de $1\n",
    "data_1.query('Price == 1').value_counts().head()"
   ]
  },
  {
   "cell_type": "markdown",
   "metadata": {},
   "source": [
    "<span style=color:blue>**Comentario**</span>\n",
    "\n",
    "- Los precios menores a $1 coinciden principalmente con autos de transmisión manual, combustible petrol y kilometraje de 150,000 km.\n",
    "- Usaré el promedio de precio de los autos con estas características para cambiar todos los precios menores de $1."
   ]
  },
  {
   "cell_type": "code",
   "execution_count": 39,
   "metadata": {},
   "outputs": [
    {
     "data": {
      "text/plain": [
       "Price  VehicleType  RegistrationYear  Gearbox  Power  Model   Mileage  FuelType  Brand       NotRepaired\n",
       "2600   small        2004              other    0      golf    150000   gasoline  volkswagen  no             46\n",
       "3000   sedan        2004              other    0      3er     150000   gasoline  bmw         no             29\n",
       "2700   wagon        2004              other    0      sharan  150000   gasoline  volkswagen  no             24\n",
       "2600   wagon        2005              other    0      zafira  150000   gasoline  opel        no             23\n",
       "2100   small        2002              other    0      a4      150000   gasoline  audi        no             21\n",
       "Name: count, dtype: int64"
      ]
     },
     "execution_count": 39,
     "metadata": {},
     "output_type": "execute_result"
    }
   ],
   "source": [
    "# Exploración de potencias iguales a 0\n",
    "data_1.query('Power == 0').value_counts().head()"
   ]
  },
  {
   "cell_type": "markdown",
   "metadata": {},
   "source": [
    "<span style=color:blue>**Comentario**</span>\n",
    "\n",
    "- Los autos con potencia de 0, coinciden princicplamente con autos registrados por arriba del 2003, transmisión \"other\", 150,000 km y gasolina como combustible.\n",
    "- Usaré el promedio de la potencia de autos con estas características."
   ]
  },
  {
   "cell_type": "markdown",
   "metadata": {},
   "source": [
    "#### Ajuste de precios menores a $1"
   ]
  },
  {
   "cell_type": "code",
   "execution_count": 40,
   "metadata": {},
   "outputs": [
    {
     "data": {
      "text/plain": [
       "2029.738512601468"
      ]
     },
     "execution_count": 40,
     "metadata": {},
     "output_type": "execute_result"
    }
   ],
   "source": [
    "# Promedio de precio de autos con transmisión manual, combustible petrol y 150,000 km\n",
    "avg = data_1.query(\n",
    "    'Gearbox == \"manual\" and FuelType == \"petrol\" and Mileage == 150000')['Price'].mean()\n",
    "\n",
    "avg"
   ]
  },
  {
   "cell_type": "code",
   "execution_count": 41,
   "metadata": {},
   "outputs": [
    {
     "data": {
      "text/html": [
       "<div>\n",
       "<style scoped>\n",
       "    .dataframe tbody tr th:only-of-type {\n",
       "        vertical-align: middle;\n",
       "    }\n",
       "\n",
       "    .dataframe tbody tr th {\n",
       "        vertical-align: top;\n",
       "    }\n",
       "\n",
       "    .dataframe thead th {\n",
       "        text-align: right;\n",
       "    }\n",
       "</style>\n",
       "<table border=\"1\" class=\"dataframe\">\n",
       "  <thead>\n",
       "    <tr style=\"text-align: right;\">\n",
       "      <th></th>\n",
       "      <th>Price</th>\n",
       "      <th>RegistrationYear</th>\n",
       "      <th>Power</th>\n",
       "      <th>Mileage</th>\n",
       "    </tr>\n",
       "  </thead>\n",
       "  <tbody>\n",
       "    <tr>\n",
       "      <th>count</th>\n",
       "      <td>351871.000000</td>\n",
       "      <td>351871.000000</td>\n",
       "      <td>351871.000000</td>\n",
       "      <td>351871.000000</td>\n",
       "    </tr>\n",
       "    <tr>\n",
       "      <th>mean</th>\n",
       "      <td>4501.402661</td>\n",
       "      <td>2003.872269</td>\n",
       "      <td>110.715543</td>\n",
       "      <td>128438.944954</td>\n",
       "    </tr>\n",
       "    <tr>\n",
       "      <th>std</th>\n",
       "      <td>4467.442894</td>\n",
       "      <td>70.699431</td>\n",
       "      <td>190.314641</td>\n",
       "      <td>37563.868483</td>\n",
       "    </tr>\n",
       "    <tr>\n",
       "      <th>min</th>\n",
       "      <td>2.000000</td>\n",
       "      <td>1000.000000</td>\n",
       "      <td>0.000000</td>\n",
       "      <td>5000.000000</td>\n",
       "    </tr>\n",
       "    <tr>\n",
       "      <th>25%</th>\n",
       "      <td>1250.000000</td>\n",
       "      <td>1999.000000</td>\n",
       "      <td>69.000000</td>\n",
       "      <td>125000.000000</td>\n",
       "    </tr>\n",
       "    <tr>\n",
       "      <th>50%</th>\n",
       "      <td>2750.000000</td>\n",
       "      <td>2003.000000</td>\n",
       "      <td>105.000000</td>\n",
       "      <td>150000.000000</td>\n",
       "    </tr>\n",
       "    <tr>\n",
       "      <th>75%</th>\n",
       "      <td>6450.000000</td>\n",
       "      <td>2008.000000</td>\n",
       "      <td>143.000000</td>\n",
       "      <td>150000.000000</td>\n",
       "    </tr>\n",
       "    <tr>\n",
       "      <th>max</th>\n",
       "      <td>20000.000000</td>\n",
       "      <td>9999.000000</td>\n",
       "      <td>20000.000000</td>\n",
       "      <td>150000.000000</td>\n",
       "    </tr>\n",
       "  </tbody>\n",
       "</table>\n",
       "</div>"
      ],
      "text/plain": [
       "               Price  RegistrationYear          Power        Mileage\n",
       "count  351871.000000     351871.000000  351871.000000  351871.000000\n",
       "mean     4501.402661       2003.872269     110.715543  128438.944954\n",
       "std      4467.442894         70.699431     190.314641   37563.868483\n",
       "min         2.000000       1000.000000       0.000000    5000.000000\n",
       "25%      1250.000000       1999.000000      69.000000  125000.000000\n",
       "50%      2750.000000       2003.000000     105.000000  150000.000000\n",
       "75%      6450.000000       2008.000000     143.000000  150000.000000\n",
       "max     20000.000000       9999.000000   20000.000000  150000.000000"
      ]
     },
     "execution_count": 41,
     "metadata": {},
     "output_type": "execute_result"
    }
   ],
   "source": [
    "# Cambio de valores 0 y 1 por el promedio encontrado\n",
    "data_1['Price'] = data_1['Price'].replace([0, 1], [avg, avg])\n",
    "\n",
    "data_1.describe()"
   ]
  },
  {
   "cell_type": "markdown",
   "metadata": {},
   "source": [
    "#### Ajuste de potencias iguales a 0"
   ]
  },
  {
   "cell_type": "code",
   "execution_count": 42,
   "metadata": {},
   "outputs": [
    {
     "data": {
      "text/plain": [
       "37.30834114339269"
      ]
     },
     "execution_count": 42,
     "metadata": {},
     "output_type": "execute_result"
    }
   ],
   "source": [
    "# Promedio de potencia de autos registrados después del 2003, con transmisión \"other\", combustible gasolina y 150,000 km\n",
    "avg_pw = data_1.query(\n",
    "    'RegistrationYear > 2003 and Gearbox == \"other\" and FuelType == \"gasoline\" and Mileage == 150000')['Power'].mean()\n",
    "\n",
    "avg_pw"
   ]
  },
  {
   "cell_type": "code",
   "execution_count": 43,
   "metadata": {},
   "outputs": [
    {
     "data": {
      "text/html": [
       "<div>\n",
       "<style scoped>\n",
       "    .dataframe tbody tr th:only-of-type {\n",
       "        vertical-align: middle;\n",
       "    }\n",
       "\n",
       "    .dataframe tbody tr th {\n",
       "        vertical-align: top;\n",
       "    }\n",
       "\n",
       "    .dataframe thead th {\n",
       "        text-align: right;\n",
       "    }\n",
       "</style>\n",
       "<table border=\"1\" class=\"dataframe\">\n",
       "  <thead>\n",
       "    <tr style=\"text-align: right;\">\n",
       "      <th></th>\n",
       "      <th>Price</th>\n",
       "      <th>RegistrationYear</th>\n",
       "      <th>Power</th>\n",
       "      <th>Mileage</th>\n",
       "    </tr>\n",
       "  </thead>\n",
       "  <tbody>\n",
       "    <tr>\n",
       "      <th>count</th>\n",
       "      <td>351871.000000</td>\n",
       "      <td>351871.000000</td>\n",
       "      <td>351871.000000</td>\n",
       "      <td>351871.000000</td>\n",
       "    </tr>\n",
       "    <tr>\n",
       "      <th>mean</th>\n",
       "      <td>4501.402661</td>\n",
       "      <td>2003.872269</td>\n",
       "      <td>114.765619</td>\n",
       "      <td>128438.944954</td>\n",
       "    </tr>\n",
       "    <tr>\n",
       "      <th>std</th>\n",
       "      <td>4467.442894</td>\n",
       "      <td>70.699431</td>\n",
       "      <td>188.301743</td>\n",
       "      <td>37563.868483</td>\n",
       "    </tr>\n",
       "    <tr>\n",
       "      <th>min</th>\n",
       "      <td>2.000000</td>\n",
       "      <td>1000.000000</td>\n",
       "      <td>1.000000</td>\n",
       "      <td>5000.000000</td>\n",
       "    </tr>\n",
       "    <tr>\n",
       "      <th>25%</th>\n",
       "      <td>1250.000000</td>\n",
       "      <td>1999.000000</td>\n",
       "      <td>69.000000</td>\n",
       "      <td>125000.000000</td>\n",
       "    </tr>\n",
       "    <tr>\n",
       "      <th>50%</th>\n",
       "      <td>2750.000000</td>\n",
       "      <td>2003.000000</td>\n",
       "      <td>105.000000</td>\n",
       "      <td>150000.000000</td>\n",
       "    </tr>\n",
       "    <tr>\n",
       "      <th>75%</th>\n",
       "      <td>6450.000000</td>\n",
       "      <td>2008.000000</td>\n",
       "      <td>143.000000</td>\n",
       "      <td>150000.000000</td>\n",
       "    </tr>\n",
       "    <tr>\n",
       "      <th>max</th>\n",
       "      <td>20000.000000</td>\n",
       "      <td>9999.000000</td>\n",
       "      <td>20000.000000</td>\n",
       "      <td>150000.000000</td>\n",
       "    </tr>\n",
       "  </tbody>\n",
       "</table>\n",
       "</div>"
      ],
      "text/plain": [
       "               Price  RegistrationYear          Power        Mileage\n",
       "count  351871.000000     351871.000000  351871.000000  351871.000000\n",
       "mean     4501.402661       2003.872269     114.765619  128438.944954\n",
       "std      4467.442894         70.699431     188.301743   37563.868483\n",
       "min         2.000000       1000.000000       1.000000    5000.000000\n",
       "25%      1250.000000       1999.000000      69.000000  125000.000000\n",
       "50%      2750.000000       2003.000000     105.000000  150000.000000\n",
       "75%      6450.000000       2008.000000     143.000000  150000.000000\n",
       "max     20000.000000       9999.000000   20000.000000  150000.000000"
      ]
     },
     "execution_count": 43,
     "metadata": {},
     "output_type": "execute_result"
    }
   ],
   "source": [
    "# Cambio de valores 0 por el promedio encontrado\n",
    "data_1['Power'] = data_1['Power'].replace(0, avg_pw)\n",
    "\n",
    "data_1.describe()"
   ]
  },
  {
   "cell_type": "markdown",
   "metadata": {},
   "source": [
    "#### Ajuste de valores atípicos"
   ]
  },
  {
   "cell_type": "code",
   "execution_count": 44,
   "metadata": {},
   "outputs": [],
   "source": [
    "# Eliminando atípicos de precio (por arriba de $15,000)\n",
    "data_1 = data_1.query('Price < 15000')"
   ]
  },
  {
   "cell_type": "code",
   "execution_count": 45,
   "metadata": {},
   "outputs": [],
   "source": [
    "# Eliminando atípicos de año de registro (seleccionando solo el periodo 1985 a 2020)\n",
    "data_1 = data_1.query('1985 < RegistrationYear < 2020')"
   ]
  },
  {
   "cell_type": "code",
   "execution_count": 46,
   "metadata": {},
   "outputs": [],
   "source": [
    "# Eliminando atípicos de potencia (por arriba de 250 CV)\n",
    "data_1 = data_1.query('Power <= 250')"
   ]
  },
  {
   "cell_type": "code",
   "execution_count": 47,
   "metadata": {},
   "outputs": [],
   "source": [
    "# Eliminando atípicos de kilometraje (por debajo de 90,000 km)\n",
    "data_1 = data_1.query('Mileage >= 90000')"
   ]
  },
  {
   "cell_type": "code",
   "execution_count": 48,
   "metadata": {},
   "outputs": [
    {
     "data": {
      "text/plain": [
       "0.7993939684897503"
      ]
     },
     "execution_count": 48,
     "metadata": {},
     "output_type": "execute_result"
    }
   ],
   "source": [
    "len(data_1) / len(data)"
   ]
  },
  {
   "cell_type": "markdown",
   "metadata": {},
   "source": [
    "<span style=color:blue>**Comentario**</span>\n",
    "\n",
    "- El dataframe final, después de la eliminación de atípicos y ajuste de datos en 0, mantiene el 80% de la cantidad de datos originales."
   ]
  },
  {
   "cell_type": "markdown",
   "metadata": {},
   "source": [
    "## Ingeniería de datos"
   ]
  },
  {
   "cell_type": "markdown",
   "metadata": {},
   "source": [
    "### Separar atributos y target"
   ]
  },
  {
   "cell_type": "code",
   "execution_count": 49,
   "metadata": {},
   "outputs": [
    {
     "name": "stdout",
     "output_type": "stream",
     "text": [
      "(283071, 9)\n",
      "(283071,)\n"
     ]
    }
   ],
   "source": [
    "X = data_1.drop(columns='Price')  # Atributos\n",
    "y = data_1['Price']  # Target\n",
    "\n",
    "print(X.shape)\n",
    "print(y.shape)"
   ]
  },
  {
   "cell_type": "markdown",
   "metadata": {},
   "source": [
    "### Estudiar normalidad del target"
   ]
  },
  {
   "cell_type": "code",
   "execution_count": 50,
   "metadata": {},
   "outputs": [
    {
     "data": {
      "image/png": "[encoded data removed]",
      "text/plain": [
       "<Figure size 640x480 with 1 Axes>"
      ]
     },
     "metadata": {},
     "output_type": "display_data"
    }
   ],
   "source": [
    "plt.hist(y)\n",
    "plt.show()"
   ]
  },
  {
   "cell_type": "markdown",
   "metadata": {},
   "source": [
    "<span style=color:blue>**Comentario**</span>\n",
    "\n",
    "- La distribución de los precios está mayormente sesgada a la derecha"
   ]
  },
  {
   "cell_type": "code",
   "execution_count": 51,
   "metadata": {},
   "outputs": [],
   "source": [
    "# Reescalamiento de la variable target con logaritmos\n",
    "y = np.log(y + 1)"
   ]
  },
  {
   "cell_type": "code",
   "execution_count": 52,
   "metadata": {},
   "outputs": [
    {
     "data": {
      "image/png": "[encoded data removed]",
      "text/plain": [
       "<Figure size 640x480 with 1 Axes>"
      ]
     },
     "metadata": {},
     "output_type": "display_data"
    }
   ],
   "source": [
    "plt.hist(y)\n",
    "plt.show()"
   ]
  },
  {
   "cell_type": "markdown",
   "metadata": {},
   "source": [
    "<span style=color:blue>**Comentario**</span>\n",
    "\n",
    "- La distribución de los precios es ahora más parecida a una distribución normal."
   ]
  },
  {
   "cell_type": "markdown",
   "metadata": {},
   "source": [
    "### Codificación OHE"
   ]
  },
  {
   "cell_type": "code",
   "execution_count": 53,
   "metadata": {},
   "outputs": [
    {
     "data": {
      "text/html": [
       "<div>\n",
       "<style scoped>\n",
       "    .dataframe tbody tr th:only-of-type {\n",
       "        vertical-align: middle;\n",
       "    }\n",
       "\n",
       "    .dataframe tbody tr th {\n",
       "        vertical-align: top;\n",
       "    }\n",
       "\n",
       "    .dataframe thead th {\n",
       "        text-align: right;\n",
       "    }\n",
       "</style>\n",
       "<table border=\"1\" class=\"dataframe\">\n",
       "  <thead>\n",
       "    <tr style=\"text-align: right;\">\n",
       "      <th></th>\n",
       "      <th>VehicleType</th>\n",
       "      <th>RegistrationYear</th>\n",
       "      <th>Gearbox</th>\n",
       "      <th>Power</th>\n",
       "      <th>Model</th>\n",
       "      <th>Mileage</th>\n",
       "      <th>FuelType</th>\n",
       "      <th>Brand</th>\n",
       "      <th>NotRepaired</th>\n",
       "    </tr>\n",
       "  </thead>\n",
       "  <tbody>\n",
       "    <tr>\n",
       "      <th>0</th>\n",
       "      <td>other</td>\n",
       "      <td>1993</td>\n",
       "      <td>manual</td>\n",
       "      <td>37.308341</td>\n",
       "      <td>golf</td>\n",
       "      <td>150000</td>\n",
       "      <td>petrol</td>\n",
       "      <td>volkswagen</td>\n",
       "      <td>no</td>\n",
       "    </tr>\n",
       "    <tr>\n",
       "      <th>2</th>\n",
       "      <td>suv</td>\n",
       "      <td>2004</td>\n",
       "      <td>auto</td>\n",
       "      <td>163.000000</td>\n",
       "      <td>grand</td>\n",
       "      <td>125000</td>\n",
       "      <td>gasoline</td>\n",
       "      <td>jeep</td>\n",
       "      <td>no</td>\n",
       "    </tr>\n",
       "    <tr>\n",
       "      <th>3</th>\n",
       "      <td>small</td>\n",
       "      <td>2001</td>\n",
       "      <td>manual</td>\n",
       "      <td>75.000000</td>\n",
       "      <td>golf</td>\n",
       "      <td>150000</td>\n",
       "      <td>petrol</td>\n",
       "      <td>volkswagen</td>\n",
       "      <td>no</td>\n",
       "    </tr>\n",
       "    <tr>\n",
       "      <th>4</th>\n",
       "      <td>small</td>\n",
       "      <td>2008</td>\n",
       "      <td>manual</td>\n",
       "      <td>69.000000</td>\n",
       "      <td>fabia</td>\n",
       "      <td>90000</td>\n",
       "      <td>gasoline</td>\n",
       "      <td>skoda</td>\n",
       "      <td>no</td>\n",
       "    </tr>\n",
       "    <tr>\n",
       "      <th>5</th>\n",
       "      <td>sedan</td>\n",
       "      <td>1995</td>\n",
       "      <td>manual</td>\n",
       "      <td>102.000000</td>\n",
       "      <td>3er</td>\n",
       "      <td>150000</td>\n",
       "      <td>petrol</td>\n",
       "      <td>bmw</td>\n",
       "      <td>yes</td>\n",
       "    </tr>\n",
       "  </tbody>\n",
       "</table>\n",
       "</div>"
      ],
      "text/plain": [
       "  VehicleType  RegistrationYear Gearbox       Power  Model  Mileage  FuelType  \\\n",
       "0       other              1993  manual   37.308341   golf   150000    petrol   \n",
       "2         suv              2004    auto  163.000000  grand   125000  gasoline   \n",
       "3       small              2001  manual   75.000000   golf   150000    petrol   \n",
       "4       small              2008  manual   69.000000  fabia    90000  gasoline   \n",
       "5       sedan              1995  manual  102.000000    3er   150000    petrol   \n",
       "\n",
       "        Brand NotRepaired  \n",
       "0  volkswagen          no  \n",
       "2        jeep          no  \n",
       "3  volkswagen          no  \n",
       "4       skoda          no  \n",
       "5         bmw         yes  "
      ]
     },
     "execution_count": 53,
     "metadata": {},
     "output_type": "execute_result"
    }
   ],
   "source": [
    "X.head()"
   ]
  },
  {
   "cell_type": "code",
   "execution_count": 54,
   "metadata": {},
   "outputs": [
    {
     "data": {
      "text/html": [
       "<div>\n",
       "<style scoped>\n",
       "    .dataframe tbody tr th:only-of-type {\n",
       "        vertical-align: middle;\n",
       "    }\n",
       "\n",
       "    .dataframe tbody tr th {\n",
       "        vertical-align: top;\n",
       "    }\n",
       "\n",
       "    .dataframe thead th {\n",
       "        text-align: right;\n",
       "    }\n",
       "</style>\n",
       "<table border=\"1\" class=\"dataframe\">\n",
       "  <thead>\n",
       "    <tr style=\"text-align: right;\">\n",
       "      <th></th>\n",
       "      <th>RegistrationYear</th>\n",
       "      <th>Power</th>\n",
       "      <th>Mileage</th>\n",
       "      <th>VehicleType_convertible</th>\n",
       "      <th>VehicleType_coupe</th>\n",
       "      <th>VehicleType_other</th>\n",
       "      <th>VehicleType_sedan</th>\n",
       "      <th>VehicleType_small</th>\n",
       "      <th>VehicleType_suv</th>\n",
       "      <th>VehicleType_wagon</th>\n",
       "      <th>...</th>\n",
       "      <th>Brand_skoda</th>\n",
       "      <th>Brand_smart</th>\n",
       "      <th>Brand_sonstige_autos</th>\n",
       "      <th>Brand_subaru</th>\n",
       "      <th>Brand_suzuki</th>\n",
       "      <th>Brand_toyota</th>\n",
       "      <th>Brand_trabant</th>\n",
       "      <th>Brand_volkswagen</th>\n",
       "      <th>Brand_volvo</th>\n",
       "      <th>NotRepaired_yes</th>\n",
       "    </tr>\n",
       "  </thead>\n",
       "  <tbody>\n",
       "    <tr>\n",
       "      <th>0</th>\n",
       "      <td>1993</td>\n",
       "      <td>37</td>\n",
       "      <td>150000</td>\n",
       "      <td>0</td>\n",
       "      <td>0</td>\n",
       "      <td>1</td>\n",
       "      <td>0</td>\n",
       "      <td>0</td>\n",
       "      <td>0</td>\n",
       "      <td>0</td>\n",
       "      <td>...</td>\n",
       "      <td>0</td>\n",
       "      <td>0</td>\n",
       "      <td>0</td>\n",
       "      <td>0</td>\n",
       "      <td>0</td>\n",
       "      <td>0</td>\n",
       "      <td>0</td>\n",
       "      <td>1</td>\n",
       "      <td>0</td>\n",
       "      <td>0</td>\n",
       "    </tr>\n",
       "    <tr>\n",
       "      <th>2</th>\n",
       "      <td>2004</td>\n",
       "      <td>163</td>\n",
       "      <td>125000</td>\n",
       "      <td>0</td>\n",
       "      <td>0</td>\n",
       "      <td>0</td>\n",
       "      <td>0</td>\n",
       "      <td>0</td>\n",
       "      <td>1</td>\n",
       "      <td>0</td>\n",
       "      <td>...</td>\n",
       "      <td>0</td>\n",
       "      <td>0</td>\n",
       "      <td>0</td>\n",
       "      <td>0</td>\n",
       "      <td>0</td>\n",
       "      <td>0</td>\n",
       "      <td>0</td>\n",
       "      <td>0</td>\n",
       "      <td>0</td>\n",
       "      <td>0</td>\n",
       "    </tr>\n",
       "    <tr>\n",
       "      <th>3</th>\n",
       "      <td>2001</td>\n",
       "      <td>75</td>\n",
       "      <td>150000</td>\n",
       "      <td>0</td>\n",
       "      <td>0</td>\n",
       "      <td>0</td>\n",
       "      <td>0</td>\n",
       "      <td>1</td>\n",
       "      <td>0</td>\n",
       "      <td>0</td>\n",
       "      <td>...</td>\n",
       "      <td>0</td>\n",
       "      <td>0</td>\n",
       "      <td>0</td>\n",
       "      <td>0</td>\n",
       "      <td>0</td>\n",
       "      <td>0</td>\n",
       "      <td>0</td>\n",
       "      <td>1</td>\n",
       "      <td>0</td>\n",
       "      <td>0</td>\n",
       "    </tr>\n",
       "    <tr>\n",
       "      <th>4</th>\n",
       "      <td>2008</td>\n",
       "      <td>69</td>\n",
       "      <td>90000</td>\n",
       "      <td>0</td>\n",
       "      <td>0</td>\n",
       "      <td>0</td>\n",
       "      <td>0</td>\n",
       "      <td>1</td>\n",
       "      <td>0</td>\n",
       "      <td>0</td>\n",
       "      <td>...</td>\n",
       "      <td>1</td>\n",
       "      <td>0</td>\n",
       "      <td>0</td>\n",
       "      <td>0</td>\n",
       "      <td>0</td>\n",
       "      <td>0</td>\n",
       "      <td>0</td>\n",
       "      <td>0</td>\n",
       "      <td>0</td>\n",
       "      <td>0</td>\n",
       "    </tr>\n",
       "    <tr>\n",
       "      <th>5</th>\n",
       "      <td>1995</td>\n",
       "      <td>102</td>\n",
       "      <td>150000</td>\n",
       "      <td>0</td>\n",
       "      <td>0</td>\n",
       "      <td>0</td>\n",
       "      <td>1</td>\n",
       "      <td>0</td>\n",
       "      <td>0</td>\n",
       "      <td>0</td>\n",
       "      <td>...</td>\n",
       "      <td>0</td>\n",
       "      <td>0</td>\n",
       "      <td>0</td>\n",
       "      <td>0</td>\n",
       "      <td>0</td>\n",
       "      <td>0</td>\n",
       "      <td>0</td>\n",
       "      <td>0</td>\n",
       "      <td>0</td>\n",
       "      <td>1</td>\n",
       "    </tr>\n",
       "  </tbody>\n",
       "</table>\n",
       "<p>5 rows × 302 columns</p>\n",
       "</div>"
      ],
      "text/plain": [
       "   RegistrationYear  Power  Mileage  VehicleType_convertible  \\\n",
       "0              1993     37   150000                        0   \n",
       "2              2004    163   125000                        0   \n",
       "3              2001     75   150000                        0   \n",
       "4              2008     69    90000                        0   \n",
       "5              1995    102   150000                        0   \n",
       "\n",
       "   VehicleType_coupe  VehicleType_other  VehicleType_sedan  VehicleType_small  \\\n",
       "0                  0                  1                  0                  0   \n",
       "2                  0                  0                  0                  0   \n",
       "3                  0                  0                  0                  1   \n",
       "4                  0                  0                  0                  1   \n",
       "5                  0                  0                  1                  0   \n",
       "\n",
       "   VehicleType_suv  VehicleType_wagon  ...  Brand_skoda  Brand_smart  \\\n",
       "0                0                  0  ...            0            0   \n",
       "2                1                  0  ...            0            0   \n",
       "3                0                  0  ...            0            0   \n",
       "4                0                  0  ...            1            0   \n",
       "5                0                  0  ...            0            0   \n",
       "\n",
       "   Brand_sonstige_autos  Brand_subaru  Brand_suzuki  Brand_toyota  \\\n",
       "0                     0             0             0             0   \n",
       "2                     0             0             0             0   \n",
       "3                     0             0             0             0   \n",
       "4                     0             0             0             0   \n",
       "5                     0             0             0             0   \n",
       "\n",
       "   Brand_trabant  Brand_volkswagen  Brand_volvo  NotRepaired_yes  \n",
       "0              0                 1            0                0  \n",
       "2              0                 0            0                0  \n",
       "3              0                 1            0                0  \n",
       "4              0                 0            0                0  \n",
       "5              0                 0            0                1  \n",
       "\n",
       "[5 rows x 302 columns]"
      ]
     },
     "execution_count": 54,
     "metadata": {},
     "output_type": "execute_result"
    }
   ],
   "source": [
    "# Codificación OHE\n",
    "X = pd.get_dummies(X, drop_first=True)\n",
    "X = X.astype(int)  # convertir boleanos en numeros\n",
    "X.head()"
   ]
  },
  {
   "cell_type": "markdown",
   "metadata": {},
   "source": [
    "### Partición de datos"
   ]
  },
  {
   "cell_type": "code",
   "execution_count": 55,
   "metadata": {},
   "outputs": [
    {
     "name": "stdout",
     "output_type": "stream",
     "text": [
      "(212303, 302)\n",
      "(70768, 302)\n"
     ]
    }
   ],
   "source": [
    "# Creación de sets de entrenamiento y prueba\n",
    "X_train, X_test, y_train, y_test = train_test_split(\n",
    "    X, y, test_size=0.25, random_state=12345)\n",
    "\n",
    "print(X_train.shape)\n",
    "print(X_test.shape)"
   ]
  },
  {
   "cell_type": "markdown",
   "metadata": {},
   "source": [
    "### Escalamiento de atributos numéricos"
   ]
  },
  {
   "cell_type": "code",
   "execution_count": 56,
   "metadata": {},
   "outputs": [],
   "source": [
    "# Variables a escalar\n",
    "var_num = ['RegistrationYear', 'Power', 'Mileage']\n",
    "\n",
    "# Ajuste de modelo para escalar\n",
    "scaler = StandardScaler().fit(X_train[var_num])"
   ]
  },
  {
   "cell_type": "code",
   "execution_count": 57,
   "metadata": {},
   "outputs": [
    {
     "data": {
      "text/html": [
       "<div>\n",
       "<style scoped>\n",
       "    .dataframe tbody tr th:only-of-type {\n",
       "        vertical-align: middle;\n",
       "    }\n",
       "\n",
       "    .dataframe tbody tr th {\n",
       "        vertical-align: top;\n",
       "    }\n",
       "\n",
       "    .dataframe thead th {\n",
       "        text-align: right;\n",
       "    }\n",
       "</style>\n",
       "<table border=\"1\" class=\"dataframe\">\n",
       "  <thead>\n",
       "    <tr style=\"text-align: right;\">\n",
       "      <th></th>\n",
       "      <th>RegistrationYear</th>\n",
       "      <th>Power</th>\n",
       "      <th>Mileage</th>\n",
       "      <th>VehicleType_convertible</th>\n",
       "      <th>VehicleType_coupe</th>\n",
       "      <th>VehicleType_other</th>\n",
       "      <th>VehicleType_sedan</th>\n",
       "      <th>VehicleType_small</th>\n",
       "      <th>VehicleType_suv</th>\n",
       "      <th>VehicleType_wagon</th>\n",
       "      <th>...</th>\n",
       "      <th>Brand_skoda</th>\n",
       "      <th>Brand_smart</th>\n",
       "      <th>Brand_sonstige_autos</th>\n",
       "      <th>Brand_subaru</th>\n",
       "      <th>Brand_suzuki</th>\n",
       "      <th>Brand_toyota</th>\n",
       "      <th>Brand_trabant</th>\n",
       "      <th>Brand_volkswagen</th>\n",
       "      <th>Brand_volvo</th>\n",
       "      <th>NotRepaired_yes</th>\n",
       "    </tr>\n",
       "  </thead>\n",
       "  <tbody>\n",
       "    <tr>\n",
       "      <th>241771</th>\n",
       "      <td>0.207539</td>\n",
       "      <td>1.424504</td>\n",
       "      <td>0.456502</td>\n",
       "      <td>0</td>\n",
       "      <td>0</td>\n",
       "      <td>0</td>\n",
       "      <td>1</td>\n",
       "      <td>0</td>\n",
       "      <td>0</td>\n",
       "      <td>0</td>\n",
       "      <td>...</td>\n",
       "      <td>0</td>\n",
       "      <td>0</td>\n",
       "      <td>0</td>\n",
       "      <td>0</td>\n",
       "      <td>0</td>\n",
       "      <td>0</td>\n",
       "      <td>0</td>\n",
       "      <td>0</td>\n",
       "      <td>0</td>\n",
       "      <td>0</td>\n",
       "    </tr>\n",
       "    <tr>\n",
       "      <th>88858</th>\n",
       "      <td>-0.447583</td>\n",
       "      <td>2.383115</td>\n",
       "      <td>0.456502</td>\n",
       "      <td>0</td>\n",
       "      <td>0</td>\n",
       "      <td>0</td>\n",
       "      <td>1</td>\n",
       "      <td>0</td>\n",
       "      <td>0</td>\n",
       "      <td>0</td>\n",
       "      <td>...</td>\n",
       "      <td>0</td>\n",
       "      <td>0</td>\n",
       "      <td>0</td>\n",
       "      <td>0</td>\n",
       "      <td>0</td>\n",
       "      <td>0</td>\n",
       "      <td>0</td>\n",
       "      <td>0</td>\n",
       "      <td>0</td>\n",
       "      <td>0</td>\n",
       "    </tr>\n",
       "    <tr>\n",
       "      <th>127530</th>\n",
       "      <td>2.336688</td>\n",
       "      <td>-0.961827</td>\n",
       "      <td>-2.627869</td>\n",
       "      <td>0</td>\n",
       "      <td>0</td>\n",
       "      <td>1</td>\n",
       "      <td>0</td>\n",
       "      <td>0</td>\n",
       "      <td>0</td>\n",
       "      <td>0</td>\n",
       "      <td>...</td>\n",
       "      <td>0</td>\n",
       "      <td>0</td>\n",
       "      <td>0</td>\n",
       "      <td>0</td>\n",
       "      <td>0</td>\n",
       "      <td>0</td>\n",
       "      <td>0</td>\n",
       "      <td>1</td>\n",
       "      <td>0</td>\n",
       "      <td>0</td>\n",
       "    </tr>\n",
       "    <tr>\n",
       "      <th>326672</th>\n",
       "      <td>0.862662</td>\n",
       "      <td>-0.615096</td>\n",
       "      <td>0.456502</td>\n",
       "      <td>0</td>\n",
       "      <td>0</td>\n",
       "      <td>0</td>\n",
       "      <td>0</td>\n",
       "      <td>1</td>\n",
       "      <td>0</td>\n",
       "      <td>0</td>\n",
       "      <td>...</td>\n",
       "      <td>0</td>\n",
       "      <td>0</td>\n",
       "      <td>0</td>\n",
       "      <td>0</td>\n",
       "      <td>0</td>\n",
       "      <td>0</td>\n",
       "      <td>0</td>\n",
       "      <td>0</td>\n",
       "      <td>0</td>\n",
       "      <td>0</td>\n",
       "    </tr>\n",
       "    <tr>\n",
       "      <th>59027</th>\n",
       "      <td>-0.775144</td>\n",
       "      <td>0.873812</td>\n",
       "      <td>0.456502</td>\n",
       "      <td>0</td>\n",
       "      <td>0</td>\n",
       "      <td>0</td>\n",
       "      <td>1</td>\n",
       "      <td>0</td>\n",
       "      <td>0</td>\n",
       "      <td>0</td>\n",
       "      <td>...</td>\n",
       "      <td>0</td>\n",
       "      <td>0</td>\n",
       "      <td>0</td>\n",
       "      <td>0</td>\n",
       "      <td>0</td>\n",
       "      <td>0</td>\n",
       "      <td>0</td>\n",
       "      <td>0</td>\n",
       "      <td>0</td>\n",
       "      <td>0</td>\n",
       "    </tr>\n",
       "  </tbody>\n",
       "</table>\n",
       "<p>5 rows × 302 columns</p>\n",
       "</div>"
      ],
      "text/plain": [
       "        RegistrationYear     Power   Mileage  VehicleType_convertible  \\\n",
       "241771          0.207539  1.424504  0.456502                        0   \n",
       "88858          -0.447583  2.383115  0.456502                        0   \n",
       "127530          2.336688 -0.961827 -2.627869                        0   \n",
       "326672          0.862662 -0.615096  0.456502                        0   \n",
       "59027          -0.775144  0.873812  0.456502                        0   \n",
       "\n",
       "        VehicleType_coupe  VehicleType_other  VehicleType_sedan  \\\n",
       "241771                  0                  0                  1   \n",
       "88858                   0                  0                  1   \n",
       "127530                  0                  1                  0   \n",
       "326672                  0                  0                  0   \n",
       "59027                   0                  0                  1   \n",
       "\n",
       "        VehicleType_small  VehicleType_suv  VehicleType_wagon  ...  \\\n",
       "241771                  0                0                  0  ...   \n",
       "88858                   0                0                  0  ...   \n",
       "127530                  0                0                  0  ...   \n",
       "326672                  1                0                  0  ...   \n",
       "59027                   0                0                  0  ...   \n",
       "\n",
       "        Brand_skoda  Brand_smart  Brand_sonstige_autos  Brand_subaru  \\\n",
       "241771            0            0                     0             0   \n",
       "88858             0            0                     0             0   \n",
       "127530            0            0                     0             0   \n",
       "326672            0            0                     0             0   \n",
       "59027             0            0                     0             0   \n",
       "\n",
       "        Brand_suzuki  Brand_toyota  Brand_trabant  Brand_volkswagen  \\\n",
       "241771             0             0              0                 0   \n",
       "88858              0             0              0                 0   \n",
       "127530             0             0              0                 1   \n",
       "326672             0             0              0                 0   \n",
       "59027              0             0              0                 0   \n",
       "\n",
       "        Brand_volvo  NotRepaired_yes  \n",
       "241771            0                0  \n",
       "88858             0                0  \n",
       "127530            0                0  \n",
       "326672            0                0  \n",
       "59027             0                0  \n",
       "\n",
       "[5 rows x 302 columns]"
      ]
     },
     "execution_count": 57,
     "metadata": {},
     "output_type": "execute_result"
    }
   ],
   "source": [
    "# Escalar los atributos en entrenamiento y prueba\n",
    "X_train[var_num] = scaler.transform(X_train[var_num])\n",
    "X_test[var_num] = scaler.transform(X_test[var_num])\n",
    "\n",
    "X_train.sample(5)"
   ]
  },
  {
   "cell_type": "code",
   "execution_count": 58,
   "metadata": {},
   "outputs": [
    {
     "data": {
      "text/html": [
       "<div>\n",
       "<style scoped>\n",
       "    .dataframe tbody tr th:only-of-type {\n",
       "        vertical-align: middle;\n",
       "    }\n",
       "\n",
       "    .dataframe tbody tr th {\n",
       "        vertical-align: top;\n",
       "    }\n",
       "\n",
       "    .dataframe thead th {\n",
       "        text-align: right;\n",
       "    }\n",
       "</style>\n",
       "<table border=\"1\" class=\"dataframe\">\n",
       "  <thead>\n",
       "    <tr style=\"text-align: right;\">\n",
       "      <th></th>\n",
       "      <th>RegistrationYear</th>\n",
       "      <th>Power</th>\n",
       "      <th>Mileage</th>\n",
       "      <th>VehicleType_convertible</th>\n",
       "      <th>VehicleType_coupe</th>\n",
       "      <th>VehicleType_other</th>\n",
       "      <th>VehicleType_sedan</th>\n",
       "      <th>VehicleType_small</th>\n",
       "      <th>VehicleType_suv</th>\n",
       "      <th>VehicleType_wagon</th>\n",
       "      <th>...</th>\n",
       "      <th>Brand_skoda</th>\n",
       "      <th>Brand_smart</th>\n",
       "      <th>Brand_sonstige_autos</th>\n",
       "      <th>Brand_subaru</th>\n",
       "      <th>Brand_suzuki</th>\n",
       "      <th>Brand_toyota</th>\n",
       "      <th>Brand_trabant</th>\n",
       "      <th>Brand_volkswagen</th>\n",
       "      <th>Brand_volvo</th>\n",
       "      <th>NotRepaired_yes</th>\n",
       "    </tr>\n",
       "  </thead>\n",
       "  <tbody>\n",
       "    <tr>\n",
       "      <th>count</th>\n",
       "      <td>212303.0000</td>\n",
       "      <td>212303.0000</td>\n",
       "      <td>212303.0000</td>\n",
       "      <td>212303.0000</td>\n",
       "      <td>212303.0000</td>\n",
       "      <td>212303.0000</td>\n",
       "      <td>212303.0000</td>\n",
       "      <td>212303.0000</td>\n",
       "      <td>212303.0000</td>\n",
       "      <td>212303.0000</td>\n",
       "      <td>...</td>\n",
       "      <td>212303.0000</td>\n",
       "      <td>212303.0000</td>\n",
       "      <td>212303.0000</td>\n",
       "      <td>212303.0000</td>\n",
       "      <td>212303.0000</td>\n",
       "      <td>212303.0000</td>\n",
       "      <td>212303.0000</td>\n",
       "      <td>212303.0000</td>\n",
       "      <td>212303.0000</td>\n",
       "      <td>212303.0000</td>\n",
       "    </tr>\n",
       "    <tr>\n",
       "      <th>mean</th>\n",
       "      <td>-0.0000</td>\n",
       "      <td>0.0000</td>\n",
       "      <td>0.0000</td>\n",
       "      <td>0.0504</td>\n",
       "      <td>0.0412</td>\n",
       "      <td>0.1127</td>\n",
       "      <td>0.2618</td>\n",
       "      <td>0.2189</td>\n",
       "      <td>0.0272</td>\n",
       "      <td>0.2024</td>\n",
       "      <td>...</td>\n",
       "      <td>0.0139</td>\n",
       "      <td>0.0115</td>\n",
       "      <td>0.0036</td>\n",
       "      <td>0.0022</td>\n",
       "      <td>0.0055</td>\n",
       "      <td>0.0121</td>\n",
       "      <td>0.0002</td>\n",
       "      <td>0.2263</td>\n",
       "      <td>0.0099</td>\n",
       "      <td>0.1127</td>\n",
       "    </tr>\n",
       "    <tr>\n",
       "      <th>std</th>\n",
       "      <td>1.0000</td>\n",
       "      <td>1.0000</td>\n",
       "      <td>1.0000</td>\n",
       "      <td>0.2188</td>\n",
       "      <td>0.1986</td>\n",
       "      <td>0.3162</td>\n",
       "      <td>0.4396</td>\n",
       "      <td>0.4135</td>\n",
       "      <td>0.1627</td>\n",
       "      <td>0.4018</td>\n",
       "      <td>...</td>\n",
       "      <td>0.1172</td>\n",
       "      <td>0.1067</td>\n",
       "      <td>0.0600</td>\n",
       "      <td>0.0465</td>\n",
       "      <td>0.0739</td>\n",
       "      <td>0.1095</td>\n",
       "      <td>0.0142</td>\n",
       "      <td>0.4184</td>\n",
       "      <td>0.0992</td>\n",
       "      <td>0.3162</td>\n",
       "    </tr>\n",
       "    <tr>\n",
       "      <th>min</th>\n",
       "      <td>-2.7405</td>\n",
       "      <td>-2.1652</td>\n",
       "      <td>-3.2447</td>\n",
       "      <td>0.0000</td>\n",
       "      <td>0.0000</td>\n",
       "      <td>0.0000</td>\n",
       "      <td>0.0000</td>\n",
       "      <td>0.0000</td>\n",
       "      <td>0.0000</td>\n",
       "      <td>0.0000</td>\n",
       "      <td>...</td>\n",
       "      <td>0.0000</td>\n",
       "      <td>0.0000</td>\n",
       "      <td>0.0000</td>\n",
       "      <td>0.0000</td>\n",
       "      <td>0.0000</td>\n",
       "      <td>0.0000</td>\n",
       "      <td>0.0000</td>\n",
       "      <td>0.0000</td>\n",
       "      <td>0.0000</td>\n",
       "      <td>0.0000</td>\n",
       "    </tr>\n",
       "    <tr>\n",
       "      <th>25%</th>\n",
       "      <td>-0.6114</td>\n",
       "      <td>-0.7783</td>\n",
       "      <td>0.4565</td>\n",
       "      <td>0.0000</td>\n",
       "      <td>0.0000</td>\n",
       "      <td>0.0000</td>\n",
       "      <td>0.0000</td>\n",
       "      <td>0.0000</td>\n",
       "      <td>0.0000</td>\n",
       "      <td>0.0000</td>\n",
       "      <td>...</td>\n",
       "      <td>0.0000</td>\n",
       "      <td>0.0000</td>\n",
       "      <td>0.0000</td>\n",
       "      <td>0.0000</td>\n",
       "      <td>0.0000</td>\n",
       "      <td>0.0000</td>\n",
       "      <td>0.0000</td>\n",
       "      <td>0.0000</td>\n",
       "      <td>0.0000</td>\n",
       "      <td>0.0000</td>\n",
       "    </tr>\n",
       "    <tr>\n",
       "      <th>50%</th>\n",
       "      <td>-0.1200</td>\n",
       "      <td>-0.0848</td>\n",
       "      <td>0.4565</td>\n",
       "      <td>0.0000</td>\n",
       "      <td>0.0000</td>\n",
       "      <td>0.0000</td>\n",
       "      <td>0.0000</td>\n",
       "      <td>0.0000</td>\n",
       "      <td>0.0000</td>\n",
       "      <td>0.0000</td>\n",
       "      <td>...</td>\n",
       "      <td>0.0000</td>\n",
       "      <td>0.0000</td>\n",
       "      <td>0.0000</td>\n",
       "      <td>0.0000</td>\n",
       "      <td>0.0000</td>\n",
       "      <td>0.0000</td>\n",
       "      <td>0.0000</td>\n",
       "      <td>0.0000</td>\n",
       "      <td>0.0000</td>\n",
       "      <td>0.0000</td>\n",
       "    </tr>\n",
       "    <tr>\n",
       "      <th>75%</th>\n",
       "      <td>0.5351</td>\n",
       "      <td>0.6699</td>\n",
       "      <td>0.4565</td>\n",
       "      <td>0.0000</td>\n",
       "      <td>0.0000</td>\n",
       "      <td>0.0000</td>\n",
       "      <td>1.0000</td>\n",
       "      <td>0.0000</td>\n",
       "      <td>0.0000</td>\n",
       "      <td>0.0000</td>\n",
       "      <td>...</td>\n",
       "      <td>0.0000</td>\n",
       "      <td>0.0000</td>\n",
       "      <td>0.0000</td>\n",
       "      <td>0.0000</td>\n",
       "      <td>0.0000</td>\n",
       "      <td>0.0000</td>\n",
       "      <td>0.0000</td>\n",
       "      <td>0.0000</td>\n",
       "      <td>0.0000</td>\n",
       "      <td>0.0000</td>\n",
       "    </tr>\n",
       "    <tr>\n",
       "      <th>max</th>\n",
       "      <td>2.6642</td>\n",
       "      <td>2.9134</td>\n",
       "      <td>0.4565</td>\n",
       "      <td>1.0000</td>\n",
       "      <td>1.0000</td>\n",
       "      <td>1.0000</td>\n",
       "      <td>1.0000</td>\n",
       "      <td>1.0000</td>\n",
       "      <td>1.0000</td>\n",
       "      <td>1.0000</td>\n",
       "      <td>...</td>\n",
       "      <td>1.0000</td>\n",
       "      <td>1.0000</td>\n",
       "      <td>1.0000</td>\n",
       "      <td>1.0000</td>\n",
       "      <td>1.0000</td>\n",
       "      <td>1.0000</td>\n",
       "      <td>1.0000</td>\n",
       "      <td>1.0000</td>\n",
       "      <td>1.0000</td>\n",
       "      <td>1.0000</td>\n",
       "    </tr>\n",
       "  </tbody>\n",
       "</table>\n",
       "<p>8 rows × 302 columns</p>\n",
       "</div>"
      ],
      "text/plain": [
       "       RegistrationYear        Power      Mileage  VehicleType_convertible  \\\n",
       "count       212303.0000  212303.0000  212303.0000              212303.0000   \n",
       "mean            -0.0000       0.0000       0.0000                   0.0504   \n",
       "std              1.0000       1.0000       1.0000                   0.2188   \n",
       "min             -2.7405      -2.1652      -3.2447                   0.0000   \n",
       "25%             -0.6114      -0.7783       0.4565                   0.0000   \n",
       "50%             -0.1200      -0.0848       0.4565                   0.0000   \n",
       "75%              0.5351       0.6699       0.4565                   0.0000   \n",
       "max              2.6642       2.9134       0.4565                   1.0000   \n",
       "\n",
       "       VehicleType_coupe  VehicleType_other  VehicleType_sedan  \\\n",
       "count        212303.0000        212303.0000        212303.0000   \n",
       "mean              0.0412             0.1127             0.2618   \n",
       "std               0.1986             0.3162             0.4396   \n",
       "min               0.0000             0.0000             0.0000   \n",
       "25%               0.0000             0.0000             0.0000   \n",
       "50%               0.0000             0.0000             0.0000   \n",
       "75%               0.0000             0.0000             1.0000   \n",
       "max               1.0000             1.0000             1.0000   \n",
       "\n",
       "       VehicleType_small  VehicleType_suv  VehicleType_wagon  ...  \\\n",
       "count        212303.0000      212303.0000        212303.0000  ...   \n",
       "mean              0.2189           0.0272             0.2024  ...   \n",
       "std               0.4135           0.1627             0.4018  ...   \n",
       "min               0.0000           0.0000             0.0000  ...   \n",
       "25%               0.0000           0.0000             0.0000  ...   \n",
       "50%               0.0000           0.0000             0.0000  ...   \n",
       "75%               0.0000           0.0000             0.0000  ...   \n",
       "max               1.0000           1.0000             1.0000  ...   \n",
       "\n",
       "       Brand_skoda  Brand_smart  Brand_sonstige_autos  Brand_subaru  \\\n",
       "count  212303.0000  212303.0000           212303.0000   212303.0000   \n",
       "mean        0.0139       0.0115                0.0036        0.0022   \n",
       "std         0.1172       0.1067                0.0600        0.0465   \n",
       "min         0.0000       0.0000                0.0000        0.0000   \n",
       "25%         0.0000       0.0000                0.0000        0.0000   \n",
       "50%         0.0000       0.0000                0.0000        0.0000   \n",
       "75%         0.0000       0.0000                0.0000        0.0000   \n",
       "max         1.0000       1.0000                1.0000        1.0000   \n",
       "\n",
       "       Brand_suzuki  Brand_toyota  Brand_trabant  Brand_volkswagen  \\\n",
       "count   212303.0000   212303.0000    212303.0000       212303.0000   \n",
       "mean         0.0055        0.0121         0.0002            0.2263   \n",
       "std          0.0739        0.1095         0.0142            0.4184   \n",
       "min          0.0000        0.0000         0.0000            0.0000   \n",
       "25%          0.0000        0.0000         0.0000            0.0000   \n",
       "50%          0.0000        0.0000         0.0000            0.0000   \n",
       "75%          0.0000        0.0000         0.0000            0.0000   \n",
       "max          1.0000        1.0000         1.0000            1.0000   \n",
       "\n",
       "       Brand_volvo  NotRepaired_yes  \n",
       "count  212303.0000      212303.0000  \n",
       "mean        0.0099           0.1127  \n",
       "std         0.0992           0.3162  \n",
       "min         0.0000           0.0000  \n",
       "25%         0.0000           0.0000  \n",
       "50%         0.0000           0.0000  \n",
       "75%         0.0000           0.0000  \n",
       "max         1.0000           1.0000  \n",
       "\n",
       "[8 rows x 302 columns]"
      ]
     },
     "execution_count": 58,
     "metadata": {},
     "output_type": "execute_result"
    }
   ],
   "source": [
    "X_train.describe().round(4)"
   ]
  },
  {
   "cell_type": "markdown",
   "metadata": {},
   "source": [
    "<span style=color:blue>**Comentario**</span>\n",
    "\n",
    "- Después del escalamiento, los valores de promedio y desviación estándar son los esperados."
   ]
  },
  {
   "cell_type": "markdown",
   "metadata": {},
   "source": [
    "## Prueba de cordura: regresión lineal tradicional"
   ]
  },
  {
   "cell_type": "code",
   "execution_count": 59,
   "metadata": {},
   "outputs": [],
   "source": [
    "# Función para métricas r2 y RECM\n",
    "\n",
    "def metricas(y_test, y_pred, imprimir=False):\n",
    "    r2 = r2_score(y_test, y_pred)\n",
    "    RECM = mean_squared_error(y_test, y_pred)**0.5\n",
    "\n",
    "    if imprimir == True:\n",
    "        print(f'r2: {r2:.1%}')\n",
    "        print(f'RECM: {RECM:.2}')\n",
    "\n",
    "    return r2, RECM"
   ]
  },
  {
   "cell_type": "code",
   "execution_count": 60,
   "metadata": {},
   "outputs": [],
   "source": [
    "# Selección y ajuste de modelo de regresión lineal\n",
    "mod_reg = LinearRegression().fit(X_train, y_train)\n",
    "\n",
    "# Predicción\n",
    "y_pred = mod_reg.predict(X_test)"
   ]
  },
  {
   "cell_type": "code",
   "execution_count": 61,
   "metadata": {},
   "outputs": [
    {
     "name": "stdout",
     "output_type": "stream",
     "text": [
      "r2: 66.1%\n",
      "RECM: 0.61\n"
     ]
    }
   ],
   "source": [
    "# Métricas\n",
    "r2_reg, RECM_reg = metricas(y_test, y_pred, imprimir=True)"
   ]
  },
  {
   "cell_type": "markdown",
   "metadata": {},
   "source": [
    "## Regresión con árbol de decisión"
   ]
  },
  {
   "cell_type": "code",
   "execution_count": 62,
   "metadata": {},
   "outputs": [],
   "source": [
    "# Creación del modelo\n",
    "tree_reg = DecisionTreeRegressor(random_state=12345).fit(X_train, y_train)\n",
    "\n",
    "# Predicción\n",
    "y_pred = tree_reg.predict(X_test)"
   ]
  },
  {
   "cell_type": "code",
   "execution_count": 63,
   "metadata": {},
   "outputs": [
    {
     "name": "stdout",
     "output_type": "stream",
     "text": [
      "r2: 66.8%\n",
      "RECM: 0.6\n"
     ]
    }
   ],
   "source": [
    "# Métricas\n",
    "r2_tree, RECM_tree = metricas(y_test, y_pred, imprimir=True)"
   ]
  },
  {
   "cell_type": "markdown",
   "metadata": {},
   "source": [
    "### Ajuste de hiperparámetros"
   ]
  },
  {
   "cell_type": "code",
   "execution_count": 64,
   "metadata": {},
   "outputs": [
    {
     "data": {
      "text/plain": [
       "{'max_depth': 10, 'min_samples_split': 10}"
      ]
     },
     "execution_count": 64,
     "metadata": {},
     "output_type": "execute_result"
    }
   ],
   "source": [
    "# Crear un modelo de árbol de decisión\n",
    "model = DecisionTreeRegressor(random_state=12345)\n",
    "\n",
    "# Crear un diccionario con los hiperparámetros a ajustar\n",
    "param_grid = {'max_depth': [2, 5, 10],\n",
    "              'min_samples_split': [2, 5, 10]}\n",
    "\n",
    "# Realizar una búsqueda en cuadrícula utilizando validación cruzada\n",
    "grid_search = GridSearchCV(estimator=model, param_grid=param_grid, cv=5)\n",
    "grid_search.fit(X_train, y_train)\n",
    "\n",
    "# Obtener los mejores hiperparámetros\n",
    "best_params = grid_search.best_params_\n",
    "best_params"
   ]
  },
  {
   "cell_type": "code",
   "execution_count": 65,
   "metadata": {},
   "outputs": [],
   "source": [
    "# Creación del modelo con los hiperparámetros seleccionados\n",
    "tree_reg_2 = DecisionTreeRegressor(\n",
    "    max_depth=10, min_samples_split=10, random_state=12345)\n",
    "\n",
    "# Ajuste del modelo\n",
    "tree_reg_2.fit(X_train, y_train)\n",
    "\n",
    "# Predicción\n",
    "y_pred = tree_reg_2.predict(X_test)"
   ]
  },
  {
   "cell_type": "code",
   "execution_count": 66,
   "metadata": {},
   "outputs": [
    {
     "name": "stdout",
     "output_type": "stream",
     "text": [
      "r2: 69.4%\n",
      "RECM: 0.57\n"
     ]
    }
   ],
   "source": [
    "# Métricas\n",
    "r2_tree_2, RECM_tree_2 = metricas(y_test, y_pred, imprimir=True)"
   ]
  },
  {
   "cell_type": "markdown",
   "metadata": {},
   "source": [
    "## Regresión con bosque aleatorio"
   ]
  },
  {
   "cell_type": "code",
   "execution_count": 67,
   "metadata": {},
   "outputs": [],
   "source": [
    "# Selección y ajuste del modelo\n",
    "forest_reg = RandomForestRegressor(random_state=12345).fit(X_train, y_train)\n",
    "\n",
    "# Predicción\n",
    "y_pred = forest_reg.predict(X_test)"
   ]
  },
  {
   "cell_type": "code",
   "execution_count": 68,
   "metadata": {},
   "outputs": [
    {
     "name": "stdout",
     "output_type": "stream",
     "text": [
      "r2: 74.5%\n",
      "RECM: 0.52\n"
     ]
    }
   ],
   "source": [
    "# Métricas\n",
    "r2_forest, RECM_forest = metricas(y_test, y_pred, imprimir=True)"
   ]
  },
  {
   "cell_type": "markdown",
   "metadata": {},
   "source": [
    "### Ajuste de hiperparámetros"
   ]
  },
  {
   "cell_type": "code",
   "execution_count": 69,
   "metadata": {},
   "outputs": [
    {
     "name": "stdout",
     "output_type": "stream",
     "text": [
      "n_estimators: 500, max_depth: 20, r2: 75.5%, RECM: 0.51\n"
     ]
    }
   ],
   "source": [
    "best_RECM = 1\n",
    "best_r2 = 0\n",
    "best_est = 0\n",
    "best_depth = 0\n",
    "\n",
    "n_casos = [100, 200, 500]\n",
    "d_casos = [5, 10, 15, 20]\n",
    "\n",
    "for n in n_casos:\n",
    "    for depth in d_casos:\n",
    "        model = RandomForestRegressor(\n",
    "            n_estimators=n, max_depth=depth, random_state=12345)\n",
    "        model.fit(X_train, y_train)\n",
    "        y_pred = model.predict(X_test)\n",
    "\n",
    "        r2_forest_h, RECM_forest_h = metricas(y_test, y_pred)\n",
    "\n",
    "        if RECM_forest_h < best_RECM:\n",
    "            best_RECM = RECM_forest_h\n",
    "            best_r2 = r2_forest_h\n",
    "            best_est = n\n",
    "            best_depth = depth\n",
    "\n",
    "print(f\"n_estimators: {best_est}, max_depth: {\n",
    "      best_depth}, r2: {best_r2:.1%}, RECM: {best_RECM:.2}\")"
   ]
  },
  {
   "cell_type": "markdown",
   "metadata": {},
   "source": [
    "## Regresión con lightGBM"
   ]
  },
  {
   "cell_type": "code",
   "execution_count": 70,
   "metadata": {},
   "outputs": [],
   "source": [
    "# Definir y ajustar modelo GBM con valores estándar\n",
    "mod_gbm = LGBMRegressor(\n",
    "    verbose=-1,\n",
    "    random_state=12345,\n",
    "    learning_rate=0.1,\n",
    "    n_estimators=100,\n",
    "    reg_alpha=0,\n",
    "    reg_lambda=0\n",
    ").fit(X_train, y_train)\n",
    "\n",
    "# Predicción\n",
    "y_pred = mod_gbm.predict(X_test)"
   ]
  },
  {
   "cell_type": "code",
   "execution_count": 71,
   "metadata": {},
   "outputs": [
    {
     "name": "stdout",
     "output_type": "stream",
     "text": [
      "r2: 75.3%\n",
      "RECM: 0.52\n"
     ]
    }
   ],
   "source": [
    "# Métricas\n",
    "r2_gbm, RECM_gbm = metricas(y_test, y_pred, imprimir=True)"
   ]
  },
  {
   "cell_type": "markdown",
   "metadata": {},
   "source": [
    "### Ajuste de hiperparámetros"
   ]
  },
  {
   "cell_type": "code",
   "execution_count": 72,
   "metadata": {},
   "outputs": [],
   "source": [
    "r_casos = [0.01, 0.05, 0.1, 0.2]  # learning rate\n",
    "n_casos = [100, 500, 1000]  # estimadores\n",
    "l1_casos = [0, 0.5, 1]  # regulador alpha\n",
    "l2_casos = [0, 0.5, 1]  # regulador lambda"
   ]
  },
  {
   "cell_type": "code",
   "execution_count": 73,
   "metadata": {},
   "outputs": [
    {
     "name": "stdout",
     "output_type": "stream",
     "text": [
      "RECM:0.5, r2:77.1%, learning_rate:0.2, estimadores:1000, reg1:0.5, reg2:1\n"
     ]
    }
   ],
   "source": [
    "best_learning_rate = 0\n",
    "best_est = 0\n",
    "best_reg1 = 0\n",
    "best_reg2 = 0\n",
    "best_r2 = 0\n",
    "best_RECM = 1\n",
    "\n",
    "for r in r_casos:\n",
    "    for n in n_casos:\n",
    "        for l1 in l1_casos:\n",
    "            for l2 in l2_casos:\n",
    "\n",
    "                mod_gbm = LGBMRegressor(\n",
    "                    learning_rate=r,\n",
    "                    n_estimators=n,\n",
    "                    reg_alpha=l1,\n",
    "                    reg_lambda=l2,\n",
    "                    random_state=12345,\n",
    "                    verbose=-1\n",
    "                ).fit(X_train, y_train)\n",
    "\n",
    "                y_pred = mod_gbm.predict(X_test)\n",
    "\n",
    "                r2_gbm_h, RECM_gbm_h = metricas(y_test, y_pred)\n",
    "\n",
    "                if RECM_gbm_h < best_RECM:\n",
    "                    best_RECM = RECM_gbm_h\n",
    "                    best_r2 = r2_gbm_h\n",
    "                    best_learning_rate = r\n",
    "                    best_est = n\n",
    "                    best_reg1 = l1\n",
    "                    best_reg2 = l2\n",
    "\n",
    "print(f\"RECM:{best_RECM:.2}, r2:{best_r2:.1%}, learning_rate:{\n",
    "      best_learning_rate}, estimadores:{best_est}, reg1:{best_reg1}, reg2:{best_reg2}\")"
   ]
  },
  {
   "cell_type": "markdown",
   "metadata": {},
   "source": [
    "## Comparativa de modelos"
   ]
  },
  {
   "cell_type": "code",
   "execution_count": 84,
   "metadata": {},
   "outputs": [
    {
     "data": {
      "text/html": [
       "<div>\n",
       "<style scoped>\n",
       "    .dataframe tbody tr th:only-of-type {\n",
       "        vertical-align: middle;\n",
       "    }\n",
       "\n",
       "    .dataframe tbody tr th {\n",
       "        vertical-align: top;\n",
       "    }\n",
       "\n",
       "    .dataframe thead th {\n",
       "        text-align: right;\n",
       "    }\n",
       "</style>\n",
       "<table border=\"1\" class=\"dataframe\">\n",
       "  <thead>\n",
       "    <tr style=\"text-align: right;\">\n",
       "      <th></th>\n",
       "      <th>Modelo</th>\n",
       "      <th>r2_score</th>\n",
       "      <th>RECM</th>\n",
       "      <th>Tiempo_de_ejecución (s)</th>\n",
       "    </tr>\n",
       "  </thead>\n",
       "  <tbody>\n",
       "    <tr>\n",
       "      <th>6</th>\n",
       "      <td>LightGBM_ajustado</td>\n",
       "      <td>0.770485</td>\n",
       "      <td>0.497928</td>\n",
       "      <td>237.4</td>\n",
       "    </tr>\n",
       "    <tr>\n",
       "      <th>4</th>\n",
       "      <td>Bosque_aleatorio_ajustado</td>\n",
       "      <td>0.754866</td>\n",
       "      <td>0.514592</td>\n",
       "      <td>5776.0</td>\n",
       "    </tr>\n",
       "    <tr>\n",
       "      <th>5</th>\n",
       "      <td>LightGBM</td>\n",
       "      <td>0.752776</td>\n",
       "      <td>0.516780</td>\n",
       "      <td>1.4</td>\n",
       "    </tr>\n",
       "    <tr>\n",
       "      <th>3</th>\n",
       "      <td>Bosque_aleatorio</td>\n",
       "      <td>0.745337</td>\n",
       "      <td>0.524498</td>\n",
       "      <td>259.8</td>\n",
       "    </tr>\n",
       "    <tr>\n",
       "      <th>2</th>\n",
       "      <td>Árbol_de_decisión_ajustado</td>\n",
       "      <td>0.693946</td>\n",
       "      <td>0.574990</td>\n",
       "      <td>3.0</td>\n",
       "    </tr>\n",
       "    <tr>\n",
       "      <th>1</th>\n",
       "      <td>Árbol_de_decisión</td>\n",
       "      <td>0.668439</td>\n",
       "      <td>0.598470</td>\n",
       "      <td>4.4</td>\n",
       "    </tr>\n",
       "    <tr>\n",
       "      <th>0</th>\n",
       "      <td>Regresión_lineal</td>\n",
       "      <td>0.660508</td>\n",
       "      <td>0.605586</td>\n",
       "      <td>4.4</td>\n",
       "    </tr>\n",
       "  </tbody>\n",
       "</table>\n",
       "</div>"
      ],
      "text/plain": [
       "                       Modelo  r2_score      RECM  Tiempo_de_ejecución (s)\n",
       "6           LightGBM_ajustado  0.770485  0.497928                    237.4\n",
       "4   Bosque_aleatorio_ajustado  0.754866  0.514592                   5776.0\n",
       "5                    LightGBM  0.752776  0.516780                      1.4\n",
       "3            Bosque_aleatorio  0.745337  0.524498                    259.8\n",
       "2  Árbol_de_decisión_ajustado  0.693946  0.574990                      3.0\n",
       "1           Árbol_de_decisión  0.668439  0.598470                      4.4\n",
       "0            Regresión_lineal  0.660508  0.605586                      4.4"
      ]
     },
     "execution_count": 84,
     "metadata": {},
     "output_type": "execute_result"
    }
   ],
   "source": [
    "datos = {'Modelo': ['Regresión_lineal', 'Árbol_de_decisión',\n",
    "                    'Árbol_de_decisión_ajustado', 'Bosque_aleatorio',\n",
    "                    'Bosque_aleatorio_ajustado', 'LightGBM', 'LightGBM_ajustado'],\n",
    "         'r2_score': [r2_reg, r2_tree, r2_tree_2,\n",
    "                      r2_forest, r2_forest_h, r2_gbm, r2_gbm_h],\n",
    "         'RECM': [RECM_reg, RECM_tree, RECM_tree_2, RECM_forest,\n",
    "                  RECM_forest_h, RECM_gbm, RECM_gbm_h],\n",
    "         'Tiempo_de_ejecución (s)': [4.4, 4.4, 3.0, 4*60+19.8, 96*60+16, 1.4, 3*60+57.4]}\n",
    "\n",
    "comparativa = pd.DataFrame(datos).sort_values(by='RECM', ascending=True)\n",
    "comparativa"
   ]
  },
  {
   "cell_type": "markdown",
   "metadata": {},
   "source": [
    "## Conclusiones"
   ]
  },
  {
   "cell_type": "markdown",
   "metadata": {},
   "source": [
    "1. Se probaron 3 modelos (árbol de decisión, bosque aleatorio y GBM) y 1 como prueba de cordura (regresión lineal).\n",
    "1. Se midieron los coeficientes r2 en cada modelo y la RECM como métrica principal.\n",
    "1. Se ajustaron los hiperparámetros de todos los modelos probados.\n",
    "1. El modelo con el mejor ajuste de los datos, medido con el score r2, fue el modelo con ajuste de hiperparámetros de GBM.\n",
    "2. El modelo con el error más pequeño, medido con la métrica RECM, fue también el modelo ajustado de GBM.\n",
    "3. El tiempo de ejecución del modelo ajustado GBM fue de 237.4 s.\n",
    "3. El modelo sin ajuste de GBM y el bosque aleatorio con ajuste de hiperparámetros obtuvieron una RECM similar, pero el tiempo de ejecución es demasiado elevado para el bosque aleatorio, siendo de 5776 s para este último, y de solo 1.4 s para el primero.\n",
    "5. La prueba de cordura con el modelo de regresión lineal fue exitosamente superada, pasando de una RECM de 0.605 a 0.497 con el modelo ajustado GBM, lo que representa una optimización del error de 18%.\n",
    "1. El modelo más adecuado para las necesidades de Rusty Bargain es un modelo GBM con los siguientes hiperparámetros: \n",
    "    - learning_rate: 0.2, \n",
    "    - estimadores: 1000, \n",
    "    - reg1: 0.5, \n",
    "    - reg2: 1"
   ]
  }
 ],
 "metadata": {
  "ExecuteTimeLog": [
   {
    "duration": 7,
    "start_time": "2025-01-13T03:27:21.681Z"
   }
  ],
  "kernelspec": {
   "display_name": "Python 3 (ipykernel)",
   "language": "python",
   "name": "python3"
  },
  "language_info": {
   "codemirror_mode": {
    "name": "ipython",
    "version": 3
   },
   "file_extension": ".py",
   "mimetype": "text/x-python",
   "name": "python",
   "nbconvert_exporter": "python",
   "pygments_lexer": "ipython3",
   "version": "3.9.19"
  },
  "toc": {
   "base_numbering": 1,
   "nav_menu": {},
   "number_sections": true,
   "sideBar": true,
   "skip_h1_title": true,
   "title_cell": "Table of Contents",
   "title_sidebar": "Contents",
   "toc_cell": false,
   "toc_position": {},
   "toc_section_display": true,
   "toc_window_display": false
  }
 },
 "nbformat": 4,
 "nbformat_minor": 2
}
